{
 "cells": [
  {
   "cell_type": "markdown",
   "metadata": {},
   "source": [
    "# Project: Part of Speech Tagging with Hidden Markov Models \n",
    "---\n",
    "### Introduction\n",
    "\n",
    "Part of speech tagging is the process of determining the syntactic category of a word from the words in its surrounding context. It is often used to help disambiguate natural language phrases because it can be done quickly with high accuracy. Tagging can be used for many NLP tasks like determining correct pronunciation during speech synthesis (for example, _dis_-count as a noun vs dis-_count_ as a verb), for information retrieval, and for word sense disambiguation.\n",
    "\n",
    "In this notebook, you'll use the [Pomegranate](http://pomegranate.readthedocs.io/) library to build a hidden Markov model for part of speech tagging using a \"universal\" tagset. Hidden Markov models have been able to achieve [>96% tag accuracy with larger tagsets on realistic text corpora](http://www.coli.uni-saarland.de/~thorsten/publications/Brants-ANLP00.pdf). Hidden Markov models have also been used for speech recognition and speech generation, machine translation, gene recognition for bioinformatics, and human gesture recognition for computer vision, and more. \n",
    "\n",
    "![](_post-hmm.png)\n",
    "\n",
    "The notebook already contains some code to get you started. You only need to add some new functionality in the areas indicated to complete the project; you will not need to modify the included code beyond what is requested. Sections that begin with **'IMPLEMENTATION'** in the header indicate that you must provide code in the block that follows. Instructions will be provided for each section, and the specifics of the implementation are marked in the code block with a 'TODO' statement. Please be sure to read the instructions carefully!"
   ]
  },
  {
   "cell_type": "markdown",
   "metadata": {},
   "source": [
    "<div class=\"alert alert-block alert-info\">\n",
    "**Note:** Once you have completed all of the code implementations, you need to finalize your work by exporting the iPython Notebook as an HTML document. Before exporting the notebook to html, all of the code cells need to have been run so that reviewers can see the final implementation and output. You must then **export the notebook** by running the last cell in the notebook, or by using the menu above and navigating to **File -> Download as -> HTML (.html)** Your submissions should include both the `html` and `ipynb` files.\n",
    "</div>"
   ]
  },
  {
   "cell_type": "markdown",
   "metadata": {},
   "source": [
    "<div class=\"alert alert-block alert-info\">\n",
    "**Note:** Code and Markdown cells can be executed using the `Shift + Enter` keyboard shortcut. Markdown cells can be edited by double-clicking the cell to enter edit mode.\n",
    "</div>"
   ]
  },
  {
   "cell_type": "markdown",
   "metadata": {},
   "source": [
    "### The Road Ahead\n",
    "You must complete Steps 1-3 below to pass the project. The section on Step 4 includes references & resources you can use to further explore HMM taggers.\n",
    "\n",
    "- [Step 1](#Step-1:-Read-and-preprocess-the-dataset): Review the provided interface to load and access the text corpus\n",
    "- [Step 2](#Step-2:-Build-a-Most-Frequent-Class-tagger): Build a Most Frequent Class tagger to use as a baseline\n",
    "- [Step 3](#Step-3:-Build-an-HMM-tagger): Build an HMM Part of Speech tagger and compare to the MFC baseline\n",
    "- [Step 4](#Step-4:-[Optional]-Improving-model-performance): (Optional) Improve the HMM tagger"
   ]
  },
  {
   "cell_type": "markdown",
   "metadata": {},
   "source": [
    "<div class=\"alert alert-block alert-warning\">\n",
    "**Note:** Make sure you have selected a **Python 3** kernel in Workspaces or the hmm-tagger conda environment if you are running the Jupyter server on your own machine.\n",
    "</div>"
   ]
  },
  {
   "cell_type": "code",
   "execution_count": 1,
   "metadata": {},
   "outputs": [],
   "source": [
    "# Jupyter \"magic methods\" -- only need to be run once per kernel restart\n",
    "%load_ext autoreload\n",
    "%aimport helpers, tests\n",
    "%autoreload 1"
   ]
  },
  {
   "cell_type": "code",
   "execution_count": 2,
   "metadata": {},
   "outputs": [],
   "source": [
    "# import python modules -- this cell needs to be run again if you make changes to any of the files\n",
    "import matplotlib.pyplot as plt\n",
    "import numpy as np\n",
    "import sys\n",
    "\n",
    "from IPython.core.display import HTML\n",
    "from itertools import chain\n",
    "from collections import Counter, defaultdict\n",
    "from helpers import show_model, Dataset\n",
    "from pomegranate import State, HiddenMarkovModel, DiscreteDistribution"
   ]
  },
  {
   "cell_type": "code",
   "execution_count": 3,
   "metadata": {},
   "outputs": [
    {
     "name": "stdout",
     "output_type": "stream",
     "text": [
      "Python version: sys.version_info(major=3, minor=6, micro=3, releaselevel='final', serial=0)\n"
     ]
    }
   ],
   "source": [
    "print(\"Python version: {}\".format(sys.version_info))"
   ]
  },
  {
   "cell_type": "markdown",
   "metadata": {},
   "source": [
    "## Step 1: Read and preprocess the dataset\n",
    "---\n",
    "We'll start by reading in a text corpus and splitting it into a training and testing dataset. The data set is a copy of the [Brown corpus](https://en.wikipedia.org/wiki/Brown_Corpus) (originally from the [NLTK](https://www.nltk.org/) library) that has already been pre-processed to only include the [universal tagset](https://arxiv.org/pdf/1104.2086.pdf). You should expect to get slightly higher accuracy using this simplified tagset than the same model would achieve on a larger tagset like the full [Penn treebank tagset](https://www.ling.upenn.edu/courses/Fall_2003/ling001/penn_treebank_pos.html), but the process you'll follow would be the same.\n",
    "\n",
    "The `Dataset` class provided in helpers.py will read and parse the corpus. You can generate your own datasets compatible with the reader by writing them to the following format. The dataset is stored in plaintext as a collection of words and corresponding tags. Each sentence starts with a unique identifier on the first line, followed by one tab-separated word/tag pair on each following line. Sentences are separated by a single blank line.\n",
    "\n",
    "Example from the Brown corpus. \n",
    "```\n",
    "b100-38532\n",
    "Perhaps\tADV\n",
    "it\tPRON\n",
    "was\tVERB\n",
    "right\tADJ\n",
    ";\t.\n",
    ";\t.\n",
    "\n",
    "b100-35577\n",
    "...\n",
    "```"
   ]
  },
  {
   "cell_type": "code",
   "execution_count": 4,
   "metadata": {},
   "outputs": [
    {
     "name": "stdout",
     "output_type": "stream",
     "text": [
      "There are 57340 sentences in the corpus.\n",
      "There are 45872 sentences in the training set.\n",
      "There are 11468 sentences in the testing set.\n"
     ]
    }
   ],
   "source": [
    "data = Dataset(\"tags-universal.txt\", \"brown-universal.txt\", train_test_split=0.8)\n",
    "\n",
    "print(\"There are {} sentences in the corpus.\".format(len(data)))\n",
    "print(\"There are {} sentences in the training set.\".format(len(data.training_set)))\n",
    "print(\"There are {} sentences in the testing set.\".format(len(data.testing_set)))\n",
    "\n",
    "assert len(data) == len(data.training_set) + len(data.testing_set), \\\n",
    "       \"The number of sentences in the training set + testing set should sum to the number of sentences in the corpus\""
   ]
  },
  {
   "cell_type": "markdown",
   "metadata": {},
   "source": [
    "### The Dataset Interface\n",
    "\n",
    "You can access (mostly) immutable references to the dataset through a simple interface provided through the `Dataset` class, which represents an iterable collection of sentences along with easy access to partitions of the data for training & testing. Review the reference below, then run and review the next few cells to make sure you understand the interface before moving on to the next step.\n",
    "\n",
    "```\n",
    "Dataset-only Attributes:\n",
    "    training_set - reference to a Subset object containing the samples for training\n",
    "    testing_set - reference to a Subset object containing the samples for testing\n",
    "\n",
    "Dataset & Subset Attributes:\n",
    "    sentences - a dictionary with an entry {sentence_key: Sentence()} for each sentence in the corpus\n",
    "    keys - an immutable ordered (not sorted) collection of the sentence_keys for the corpus\n",
    "    vocab - an immutable collection of the unique words in the corpus\n",
    "    tagset - an immutable collection of the unique tags in the corpus\n",
    "    X - returns an array of words grouped by sentences ((w11, w12, w13, ...), (w21, w22, w23, ...), ...)\n",
    "    Y - returns an array of tags grouped by sentences ((t11, t12, t13, ...), (t21, t22, t23, ...), ...)\n",
    "    N - returns the number of distinct samples (individual words or tags) in the dataset\n",
    "\n",
    "Methods:\n",
    "    stream() - returns an flat iterable over all (word, tag) pairs across all sentences in the corpus\n",
    "    __iter__() - returns an iterable over the data as (sentence_key, Sentence()) pairs\n",
    "    __len__() - returns the nubmer of sentences in the dataset\n",
    "```\n",
    "\n",
    "For example, consider a Subset, `subset`, of the sentences `{\"s0\": Sentence((\"See\", \"Spot\", \"run\"), (\"VERB\", \"NOUN\", \"VERB\")), \"s1\": Sentence((\"Spot\", \"ran\"), (\"NOUN\", \"VERB\"))}`. The subset will have these attributes:\n",
    "\n",
    "```\n",
    "subset.keys == {\"s1\", \"s0\"}  # unordered\n",
    "subset.vocab == {\"See\", \"run\", \"ran\", \"Spot\"}  # unordered\n",
    "subset.tagset == {\"VERB\", \"NOUN\"}  # unordered\n",
    "subset.X == ((\"Spot\", \"ran\"), (\"See\", \"Spot\", \"run\"))  # order matches .keys\n",
    "subset.Y == ((\"NOUN\", \"VERB\"), (\"VERB\", \"NOUN\", \"VERB\"))  # order matches .keys\n",
    "subset.N == 7  # there are a total of seven observations over all sentences\n",
    "len(subset) == 2  # because there are two sentences\n",
    "```\n",
    "\n",
    "<div class=\"alert alert-block alert-info\">\n",
    "**Note:** The `Dataset` class is _convenient_, but it is **not** efficient. It is not suitable for huge datasets because it stores multiple redundant copies of the same data.\n",
    "</div>"
   ]
  },
  {
   "cell_type": "markdown",
   "metadata": {},
   "source": [
    "#### Sentences\n",
    "\n",
    "`Dataset.sentences` is a dictionary of all sentences in the training corpus, each keyed to a unique sentence identifier. Each `Sentence` is itself an object with two attributes: a tuple of the words in the sentence named `words` and a tuple of the tag corresponding to each word named `tags`."
   ]
  },
  {
   "cell_type": "code",
   "execution_count": 5,
   "metadata": {},
   "outputs": [
    {
     "name": "stdout",
     "output_type": "stream",
     "text": [
      "Sentence: b100-38532\n",
      "words:\n",
      "\t('Perhaps', 'it', 'was', 'right', ';', ';')\n",
      "tags:\n",
      "\t('ADV', 'PRON', 'VERB', 'ADJ', '.', '.')\n"
     ]
    }
   ],
   "source": [
    "key = 'b100-38532'\n",
    "print(\"Sentence: {}\".format(key))\n",
    "print(\"words:\\n\\t{!s}\".format(data.sentences[key].words))\n",
    "print(\"tags:\\n\\t{!s}\".format(data.sentences[key].tags))"
   ]
  },
  {
   "cell_type": "markdown",
   "metadata": {},
   "source": [
    "<div class=\"alert alert-block alert-info\">\n",
    "**Note:** The underlying iterable sequence is **unordered** over the sentences in the corpus; it is not guaranteed to return the sentences in a consistent order between calls. Use `Dataset.stream()`, `Dataset.keys`, `Dataset.X`, or `Dataset.Y` attributes if you need ordered access to the data.\n",
    "</div>\n",
    "\n",
    "#### Counting Unique Elements\n",
    "\n",
    "You can access the list of unique words (the dataset vocabulary) via `Dataset.vocab` and the unique list of tags via `Dataset.tagset`."
   ]
  },
  {
   "cell_type": "code",
   "execution_count": 6,
   "metadata": {},
   "outputs": [
    {
     "name": "stdout",
     "output_type": "stream",
     "text": [
      "There are a total of 1161192 samples of 56057 unique words in the corpus.\n",
      "There are 928458 samples of 50536 unique words in the training set.\n",
      "There are 232734 samples of 25112 unique words in the testing set.\n",
      "There are 5521 words in the test set that are missing in the training set.\n"
     ]
    }
   ],
   "source": [
    "print(\"There are a total of {} samples of {} unique words in the corpus.\"\n",
    "      .format(data.N, len(data.vocab)))\n",
    "print(\"There are {} samples of {} unique words in the training set.\"\n",
    "      .format(data.training_set.N, len(data.training_set.vocab)))\n",
    "print(\"There are {} samples of {} unique words in the testing set.\"\n",
    "      .format(data.testing_set.N, len(data.testing_set.vocab)))\n",
    "print(\"There are {} words in the test set that are missing in the training set.\"\n",
    "      .format(len(data.testing_set.vocab - data.training_set.vocab)))\n",
    "\n",
    "assert data.N == data.training_set.N + data.testing_set.N, \\\n",
    "       \"The number of training + test samples should sum to the total number of samples\""
   ]
  },
  {
   "cell_type": "markdown",
   "metadata": {},
   "source": [
    "#### Accessing word and tag Sequences\n",
    "The `Dataset.X` and `Dataset.Y` attributes provide access to ordered collections of matching word and tag sequences for each sentence in the dataset."
   ]
  },
  {
   "cell_type": "code",
   "execution_count": 7,
   "metadata": {},
   "outputs": [
    {
     "name": "stdout",
     "output_type": "stream",
     "text": [
      "Sentence 1: ('Mr.', 'Podger', 'had', 'thanked', 'him', 'gravely', ',', 'and', 'now', 'he', 'made', 'use', 'of', 'the', 'advice', '.')\n",
      "\n",
      "Labels 1: ('NOUN', 'NOUN', 'VERB', 'VERB', 'PRON', 'ADV', '.', 'CONJ', 'ADV', 'PRON', 'VERB', 'NOUN', 'ADP', 'DET', 'NOUN', '.')\n",
      "\n",
      "Sentence 2: ('But', 'there', 'seemed', 'to', 'be', 'some', 'difference', 'of', 'opinion', 'as', 'to', 'how', 'far', 'the', 'board', 'should', 'go', ',', 'and', 'whose', 'advice', 'it', 'should', 'follow', '.')\n",
      "\n",
      "Labels 2: ('CONJ', 'PRT', 'VERB', 'PRT', 'VERB', 'DET', 'NOUN', 'ADP', 'NOUN', 'ADP', 'ADP', 'ADV', 'ADV', 'DET', 'NOUN', 'VERB', 'VERB', '.', 'CONJ', 'DET', 'NOUN', 'PRON', 'VERB', 'VERB', '.')\n",
      "\n"
     ]
    }
   ],
   "source": [
    "# accessing words with Dataset.X and tags with Dataset.Y \n",
    "for i in range(2):    \n",
    "    print(\"Sentence {}:\".format(i + 1), data.X[i])\n",
    "    print()\n",
    "    print(\"Labels {}:\".format(i + 1), data.Y[i])\n",
    "    print()"
   ]
  },
  {
   "cell_type": "markdown",
   "metadata": {},
   "source": [
    "#### Accessing (word, tag) Samples\n",
    "The `Dataset.stream()` method returns an iterator that chains together every pair of (word, tag) entries across all sentences in the entire corpus."
   ]
  },
  {
   "cell_type": "code",
   "execution_count": 8,
   "metadata": {},
   "outputs": [
    {
     "name": "stdout",
     "output_type": "stream",
     "text": [
      "\n",
      "Stream (word, tag) pairs:\n",
      "\n",
      "\t ('Mr.', 'NOUN')\n",
      "\t ('Podger', 'NOUN')\n",
      "\t ('had', 'VERB')\n",
      "\t ('thanked', 'VERB')\n",
      "\t ('him', 'PRON')\n",
      "\t ('gravely', 'ADV')\n",
      "\t (',', '.')\n"
     ]
    }
   ],
   "source": [
    "# use Dataset.stream() (word, tag) samples for the entire corpus\n",
    "print(\"\\nStream (word, tag) pairs:\\n\")\n",
    "for i, pair in enumerate(data.stream()):\n",
    "    print(\"\\t\", pair)\n",
    "    if i > 5: break"
   ]
  },
  {
   "cell_type": "markdown",
   "metadata": {},
   "source": [
    "\n",
    "For both our baseline tagger and the HMM model we'll build, we need to estimate the frequency of tags & words from the frequency counts of observations in the training corpus. In the next several cells you will complete functions to compute the counts of several sets of counts. "
   ]
  },
  {
   "cell_type": "markdown",
   "metadata": {},
   "source": [
    "## Step 2: Build a Most Frequent Class tagger\n",
    "---\n",
    "\n",
    "Perhaps the simplest tagger (and a good baseline for tagger performance) is to simply choose the tag most frequently assigned to each word. This \"most frequent class\" tagger inspects each observed word in the sequence and assigns it the label that was most often assigned to that word in the corpus."
   ]
  },
  {
   "cell_type": "markdown",
   "metadata": {},
   "source": [
    "### IMPLEMENTATION: Pair Counts\n",
    "\n",
    "Complete the function below that computes the joint frequency counts for two input sequences."
   ]
  },
  {
   "cell_type": "code",
   "execution_count": 9,
   "metadata": {},
   "outputs": [
    {
     "name": "stdout",
     "output_type": "stream",
     "text": [
      "training set X: \n",
      "(('Whenever', 'artists', ',', 'indeed', ',', 'turned', 'to', 'actual', 'representations', 'or', 'molded', 'three-dimensional', 'figures', ',', 'which', 'were', 'rare', 'down', 'to', '800', 'B.C.', ',', 'they', 'tended', 'to', 'reflect', 'reality', '(', 'see', 'Plate', '6a', ',', '9b', ')', ';', ';'),)\n",
      "training set Y: \n",
      "(('ADV', 'NOUN', '.', 'ADV', '.', 'VERB', 'ADP', 'ADJ', 'NOUN', 'CONJ', 'VERB', 'ADJ', 'NOUN', '.', 'DET', 'VERB', 'ADJ', 'PRT', 'ADP', 'NUM', 'NOUN', '.', 'PRON', 'VERB', 'PRT', 'VERB', 'NOUN', '.', 'VERB', 'NOUN', 'NUM', '.', 'NUM', '.', '.', '.'),)\n"
     ]
    }
   ],
   "source": [
    "print(\"training set X: \\n{}\".format(data.training_set.X[:1]))\n",
    "print(\"training set Y: \\n{}\".format(data.training_set.Y[:1]))"
   ]
  },
  {
   "cell_type": "code",
   "execution_count": 10,
   "metadata": {},
   "outputs": [
    {
     "name": "stdout",
     "output_type": "stream",
     "text": [
      "dict_keys(['ADV', 'NOUN', '.', 'VERB', 'ADP', 'ADJ', 'CONJ', 'DET', 'PRT', 'NUM', 'PRON', 'X'])\n"
     ]
    },
    {
     "data": {
      "text/html": [
       "<div class=\"alert alert-block alert-success\">Your emission counts look good!</div>"
      ],
      "text/plain": [
       "<IPython.core.display.HTML object>"
      ]
     },
     "execution_count": 10,
     "metadata": {},
     "output_type": "execute_result"
    }
   ],
   "source": [
    "def pair_counts(sequences_A, sequences_B):\n",
    "    \"\"\"Return a dictionary keyed to each unique value in the first sequence list\n",
    "    that counts the number of occurrences of the corresponding value from the\n",
    "    second sequences list.\n",
    "    \n",
    "    For example, if sequences_A is tags and sequences_B is the corresponding\n",
    "    words, then if 1244 sequences contain the word \"time\" tagged as a NOUN, then\n",
    "    you should return a dictionary such that pair_counts[NOUN][time] == 1244\n",
    "    \"\"\"\n",
    "    # TODO: Finish this function!\n",
    "    results = {}\n",
    "    \n",
    "    for cnt_A, all_tags in enumerate(sequences_A):\n",
    "        for val_cnt, cur_tag in enumerate(all_tags):\n",
    "            # Now extract word at current tag location\n",
    "            cur_word = sequences_B[cnt_A][val_cnt]\n",
    "            # print(\"Current tag: {}, word: {}\".format(cur_tag, cur_word))\n",
    "            \n",
    "            # Check if current tag is in dictionary and current word is in\n",
    "            # associated inner dictionary.  If so, increment the word\n",
    "            # count.  If current tag is in dictionary but current word is \n",
    "            # not in dictionary, assign count 1 to current word count and\n",
    "            # add it in inner dictionary.  If neither current tag nor \n",
    "            # current word in dictionary, assign count 1 to current\n",
    "            # word count and add both in dictionary.\n",
    "            if cur_tag in results and cur_word in results[cur_tag]:\n",
    "                results[cur_tag][cur_word] += 1\n",
    "            elif cur_tag in results and cur_word not in results[cur_tag]:\n",
    "                    results[cur_tag][cur_word] = 1\n",
    "            else:\n",
    "                results[cur_tag] = {cur_word: 1}\n",
    "\n",
    "    return results\n",
    "\n",
    "# Calculate C(t_i, w_i)\n",
    "# emission_counts = pair_counts(# TODO: YOUR CODE HERE)\n",
    "emission_counts = pair_counts(data.training_set.Y, data.training_set.X)\n",
    "print(emission_counts.keys())\n",
    "\n",
    "assert len(emission_counts) == 12, \\\n",
    "       \"Uh oh. There should be 12 tags in your dictionary.\"\n",
    "assert max(emission_counts[\"NOUN\"], key=emission_counts[\"NOUN\"].get) == 'time', \\\n",
    "       \"Hmmm...'time' is expected to be the most common NOUN.\"\n",
    "HTML('<div class=\"alert alert-block alert-success\">Your emission counts look good!</div>')"
   ]
  },
  {
   "cell_type": "code",
   "execution_count": 11,
   "metadata": {},
   "outputs": [
    {
     "name": "stdout",
     "output_type": "stream",
     "text": [
      "{'ADV': {'Whenever': 12, 'indeed': 92, 'almost': 302, 'Yes': 69, 'About': 34, 'back': 575, 'therefore': 125, 'not': 3562, 'deeply': 29, 'enough': 189, 'so': 1084, 'first': 230, 'then': 798, 'most': 542, 'Meanwhile': 17, 'again': 416, 'more': 968, 'away': 360, 'when': 1410, 'also': 793, 'usually': 151, 'sometimes': 132, 'where': 677, 'preferably': 8, 'because': 116, 'about': 422, 'especially': 116, 'manifestly': 5, 'now': 823, 'why': 194, 'heavily': 47, 'just': 584, 'once': 281, 'only': 1032, 'honestly': 11, 'steadily': 16, 'unblinkingly': 2, 'Just': 91, 'else': 130, 'very': 543, 'much': 350, 'right': 156, 'voraciously': 1, 'well': 551, 'Because': 21, 'doubtless': 9, 'farther': 26, 'negatively': 2, 'later': 248, 'currently': 26, 'thus': 126, 'inevitably': 27, 'far': 298, 'No': 95, 'enterprisingly': 1, 'Even': 150, 'how': 482, 'recently': 88, 'Never': 27, 'Then': 274, 'coldly': 6, 'directly': 109, 'When': 460, 'no': 163, 'longer': 105, 'as': 836, 'high': 27, 'really': 211, 'surely': 33, 'often': 282, 'primarily': 45, 'superbly': 8, 'successfully': 25, 'inside': 46, 'likely': 22, 'All': 47, 'practically': 42, 'Why': 114, 'anhydrously': 1, 'surprisingly': 13, 'Perhaps': 74, 'How': 171, 'ever': 250, 'even': 749, 'realistically': 6, 'essentially': 38, 'too': 646, 'yet': 173, 'ago': 196, 'rapidly': 55, 'weekly': 6, 'already': 215, 'fair': 1, 'reasonably': 26, 'Not': 155, 'visibly': 5, 'highly': 79, 'i.e.': 36, 'truly': 36, 'never': 549, 'heretofore': 6, 'generally': 100, 'somewhat': 99, 'newly': 23, 'for': 5, 'perhaps': 171, 'slightly': 67, 'gently': 26, 'outward': 4, 'certainly': 96, 'alone': 163, 'all': 144, 'always': 353, 'present': 48, 'together': 210, 'rhythmically': 1, 'More': 15, 'maybe': 53, 'pretty': 45, 'however': 304, 'adequately': 14, 'low': 11, 'that': 43, 'progressively': 5, 'lately': 9, 'uncomfortably': 3, 'curiously': 7, 'totally': 19, 'peculiarly': 7, 'fully': 62, 'tremendously': 9, 'basically': 16, 'aside': 45, 'widely': 47, 'outside': 39, 'along': 120, 'earlier': 53, 'constantly': 31, 'liberally': 4, 'exactly': 84, 'However': 135, 'near': 17, 'entirely': 71, 'yes': 42, 'overboard': 8, 'quite': 181, 'equally': 51, 'instead': 100, 'better': 129, 'merely': 107, 'nowhere': 11, 'actually': 95, 'precisely': 36, 'Nearly': 5, 'Currently': 1, 'some': 15, 'way': 7, 'nice': 1, 'there': 425, 'subconsciously': 4, 'consciously': 9, 'here': 479, 'masterfully': 1, 'So': 140, 'materially': 4, 'commercially': 10, 'Really': 7, 'Typically': 3, 'before': 122, 'undoubtedly': 13, 'possibly': 43, 'divinely': 3, 'long': 161, 'immediately': 91, 'Wherefore': 2, 'Finally': 44, 'strongly': 29, 'Maybe': 55, 'Mostly': 5, 'Meantime': 2, 'Indeed': 33, 'solemnly': 6, 'Apart': 10, 'obviously': 67, 'extremely': 41, 'overly': 7, 'around': 178, 'slowly': 89, 'namely': 27, 'mutually': 9, 'otherwise': 51, 'soon': 139, 'elsewhere': 36, 'badly': 26, 'due': 16, 'Usually': 16, 'Later': 30, 'intriguingly': 2, 'greatly': 52, 'Now': 196, 'Well': 21, 'pointedly': 3, 'hell-for-leather': 1, 'ablaze': 3, 'uneasily': 5, 'prior': 28, 'daily': 40, 'approximately': 51, 'two-fold': 1, 'jealously': 1, 'suddenly': 111, 'happily': 15, 'behind': 20, 'necessarily': 43, 'accidentally': 6, 'rather': 194, 'Distally': 1, 'effectively': 23, 'still': 560, 'Simultaneously': 6, 'mostly': 30, 'moreover': 16, 'There': 33, 'regardless': 29, 'presumably': 28, 'Therefore': 41, 'less': 162, 'frequently': 70, 'accurately': 17, 'forth': 59, 'Here': 108, 'relatively': 68, 'increasingly': 35, 'permanently': 10, 'nervously': 2, 'virtually': 29, 'Where': 71, 'aristocratically': 1, 'incredibly': 6, 'though': 25, 'poorly': 8, 'sensibly': 3, 'apparently': 80, 'Third': 4, 'spiritually': 5, 'nearly': 103, 'sufficiently': 30, 'Also': 57, 'early': 79, 'magnificently': 7, 'easily': 83, 'socially': 10, 'forward': 80, 'by': 38, 'chiefly': 18, 'finally': 101, 'reluctantly': 4, 'fruitlessly': 1, 'Thus': 136, 'alike': 9, 'great': 11, 'hardly': 75, 'anyhow': 15, 'late': 37, 'Plus': 3, 'mainly': 28, 'provocatively': 1, 'exceedingly': 7, 'sharply': 25, 'notably': 11, 'Too': 23, 'easy': 9, 'rarely': 28, 'formerly': 26, 'economically': 6, 'anyway': 33, 'strictly': 29, 'probably': 191, 'Less': 5, 'Admirably': 1, 'partially': 18, 'earnestly': 9, 'consistently': 18, 'gradually': 32, 'hard': 48, 'Certainly': 22, 'advisedly': 1, 'positively': 7, 'Second': 6, 'respectively': 22, 'considerably': 36, 'further': 73, 'medically': 2, 'fussily': 1, 'Still': 40, 'originally': 16, 'p.m.': 40, 'academically': 5, 'normally': 30, 'physically': 14, 'ruefully': 3, 'fairly': 47, 'altogether': 20, 'Moreover': 55, 'across': 8, 'continuously': 19, 'somehow': 50, 'devotedly': 1, 'seemingly': 11, 'tight': 5, 'Approximately': 6, 'simply': 140, 'Sometimes': 42, 'etc.': 52, 'perfectly': 27, 'Especially': 4, 'next': 24, 'formally': 13, 'Naturally': 13, 'insanely': 1, 'quietly': 44, 'naturally': 41, 'justly': 5, 'readily': 31, 'e.g.': 23, 'Ever': 11, 'As': 43, 'purely': 24, 'safely': 11, 'above': 69, 'Better': 6, 'Again': 40, 'but': 20, 'sooner': 10, 'scarcely': 22, 'grimly': 9, 'best': 43, 'such': 13, 'aye': 1, 'nay': 1, 'sadly': 7, 'frankly': 9, 'Along': 4, 'tensely': 3, 'upstairs': 19, 'dangerously': 3, 'carefully': 65, 'constructively': 2, 'unluckily': 1, 'algebraically': 3, 'sympathetically': 5, 'plainly': 16, 'last': 24, 'atrociously': 1, 'demonstrably': 2, 'thence': 5, 'verie': 1, 'Sure': 18, 'slimly': 1, 'evenly': 3, 'jointly': 6, 'abroad': 39, 'eventually': 33, 'unwittingly': 5, 'loudly': 13, 'Luckily': 2, 'completely': 85, 'Often': 18, 'empirically': 4, 'transversely': 1, 'meanwhile': 9, 'overnight': 10, 'swiftly': 12, 'southward': 6, 'supposedly': 12, 'little': 91, 'anywhere': 31, 'privately': 6, 'continually': 21, 'domestically': 1, 'besides': 8, 'Rather': 9, 'briefly': 26, 'bad': 3, 'freely': 17, 'excitedly': 5, 'hopefully': 5, 'Last': 2, 'clearly': 92, 'neatly': 16, 'largely': 57, 'since': 27, 'inward': 6, 'thermodynamically': 2, 'Once': 41, 'hastily': 11, 'fortunately': 3, 'Only': 72, 'backward': 13, 'securely': 3, 'literally': 16, 'indoors': 5, 'Initially': 4, 'impeccably': 2, 'straight': 47, 'beyond': 6, 'organizationally': 1, 'warmly': 7, 'after': 10, 'ahead': 77, 'perpetually': 2, 'favorably': 13, 'instantly': 14, 'tightly': 15, 'doubtfully': 1, 'faster': 12, 'prematurely': 3, 'irresistibly': 1, 'helpfully': 3, 'aimlessly': 1, 'radically': 12, 'regularly': 18, 'Above': 1, 'many': 7, 'genuinely': 8, 'prominently': 6, 'axially': 1, 'below': 52, 'indirectly': 12, 'thereof': 13, 'Yeah': 13, 'Particularly': 2, 'previously': 41, 'understandingly': 3, 'occasionally': 30, 'overhead': 4, 'fast': 38, 'quickly': 72, 'Generally': 12, 'everywhere': 32, 'lazily': 1, 'confidentially': 4, 'perennially': 1, 'symbolically': 2, 'concretely': 2, 'close': 75, 'mentally': 13, 'theretofore': 1, 'invisibly': 2, 'Carefully': 3, 'particularly': 112, 'painfully': 11, 'thereby': 28, 'bravely': 3, 'nearby': 18, 'underneath': 1, 'litle': 1, 'inasmuch': 1, 'heartily': 7, 'sure': 14, 'half': 14, 'quick': 6, 'Real': 2, 'Actually': 27, 'Instead': 31, 'appreciatively': 2, 'dimly': 8, 'intently': 4, 'Apparently': 15, 'self-consciously': 3, 'exceptionally': 7, 'wholly': 19, 'tenuously': 1, 'Furthermore': 32, 'aboard': 13, 'thither': 1, 'homewards': 1, 'rebelliously': 3, 'lightly': 26, 'least': 13, 'brilliantly': 7, 'principally': 9, 'bitterly': 12, 'nearest': 2, 'upon': 28, 'with': 3, 'officially': 14, 'unofficially': 1, 'closer': 30, 'forever': 29, 'openly': 30, 'softly': 26, 'Obviously': 22, 'infernally': 1, 'knowingly': 3, 'hence': 17, 'stiffly': 7, 'impatiently': 6, 'firmly': 37, 'dearly': 3, 'counter': 3, 'fundamentally': 7, 'seldom': 27, 'boldly': 7, 'dramatically': 7, 'aback': 1, 'solidly': 9, 'conclusively': 5, 'methodically': 5, 'quarterly': 1, 'ontologically': 1, 'miserably': 3, 'subjectively': 6, 'plumb': 4, 'thereto': 10, 'simultaneously': 24, 'narrowly': 6, 'beautifully': 11, 'A.D.': 8, 'Recently': 12, 'Very': 22, 'barely': 27, 'outdoors': 3, 'nowadays': 8, 'Statistically': 1, 'artificially': 5, 'Frequently': 6, 'foremost': 6, 'wherever': 20, 'glibly': 3, 'vaguely': 12, 'conceivably': 8, 'Yet': 51, 'out-of-doors': 1, 'upward': 16, 'Occasionally': 14, 'Similarly': 14, 'profoundly': 6, 'harmoniously': 1, 'responsibly': 1, 'evidently': 18, 'partly': 40, 'deliberately': 24, 'incomparably': 3, 'incidentally': 4, 'thoughtfully': 10, 'seriously': 39, 'religiously': 4, 'Almost': 23, 'properly': 41, 'popularly': 6, 'imperfectly': 2, 'Commonly': 1, 'westward': 8, 'deeper': 7, 'hereby': 7, 'persistently': 3, 'conveniently': 5, 'analytically': 1, 'ruthlessly': 2, 'wildly': 20, 'shrewdly': 2, 'politely': 9, 'imprudently': 2, 'unfortunately': 13, 'Closely': 3, 'inordinately': 2, 'Conversely': 3, 'Somehow': 13, 'astray': 2, 'Wherever': 3, 'parallel': 9, 'Surely': 8, 'suitably': 3, 'sometime': 6, 'gorgeously': 1, 'generously': 7, 'logically': 6, 'hereafter': 3, 'momentarily': 4, 'succinctly': 1, 'frantically': 7, 'grudgingly': 6, 'Consequently': 7, 'overwhelmingly': 7, 'thick': 2, 'similarly': 14, 'Besides': 20, 'resolutely': 2, 'terribly': 14, 'Incidentally': 4, 'Forever': 2, 'urgently': 5, 'Off-Broadway': 1, 'comparatively': 9, 'Below': 5, 'unanimously': 10, 'publicly': 20, 'stunningly': 1, 'mutely': 2, 'immensely': 6, 'whenever': 25, 'faithfully': 4, 'Basically': 2, 'Hence': 23, 'Far': 10, 'temporarily': 17, 'furiously': 11, 'clockwise': 3, 'counter-clockwise': 1, 'Momentarily': 1, 'Fourth': 1, 'chronologically': 1, 'cosily': 1, 'correctly': 9, 'solely': 18, 'desperately': 15, 'apart': 39, 'Thereupon': 2, 'blindly': 6, 'within': 8, 'repeatedly': 18, 'inexorably': 1, 'visually': 3, 'agilely': 1, 'classically': 2, 'nevertheless': 22, 'nearer': 7, 'clear': 8, 'absently': 4, 'dizzily': 1, 'hopelessly': 7, 'any': 12, 'closely': 53, 'cruelly': 3, 'actively': 11, 'ineptly': 1, 'superficially': 3, \"o'clock\": 32, 'nominally': 3, 'Anyway': 7, 'Most': 7, 'Much': 6, 'adamantly': 1, 'blithely': 3, 'continentally': 1, 'finely': 4, 'initially': 12, 'ordinarily': 11, 'affectionately': 3, 'significantly': 9, 'acutely': 5, 'Eventually': 8, 'eagerly': 12, 'authentically': 2, 'automatically': 26, 'silently': 12, 'ominously': 3, 'Already': 15, 'uniformly': 4, 'awful': 3, 'roughly': 21, 'Back': 10, 'Inevitably': 3, 'stark': 1, 'Ordinarily': 2, 'schematically': 3, 'verbally': 3, 'Secondly': 4, 'soundly': 2, 'dreamlessly': 1, 'extensively': 8, 'Suddenly': 19, 'proportionately': 6, 'experimentally': 6, 'aloud': 9, 'Somewhere': 10, 'somewhere': 33, 'utterly': 18, 'curvaceously': 1, 'subtly': 4, 'competently': 5, 'That': 1, 'halfway': 8, 'Feebly': 1, 'separately': 9, 'purposely': 4, 'Sooner': 2, 'Hardly': 6, 'presently': 20, 'rationally': 2, 'prickly': 1, 'tentatively': 5, 'either': 23, 'somewheres': 1, \"O'Clock\": 2, 'professedly': 2, 'thereafter': 12, 'That-a-way': 1, 'upright': 5, 'downstairs': 9, 'financially': 8, 'victoriously': 1, 'girlishly': 2, 'upwards': 5, 'True': 7, 'annually': 13, 'indelibly': 1, 'Essentially': 3, 'First': 33, 'gloriously': 1, 'morally': 7, 'politically': 9, 'sociologically': 1, 'importantly': 4, 'nicely': 8, 'specifically': 29, 'real': 13, 'vice': 6, 'versa': 6, 'awfully': 7, 'according': 7, 'farthest': 1, 'deep': 12, 'oftener': 1, 'wide': 8, 'fatally': 3, 'a.m.': 19, 'Out': 8, 'mechanically': 3, 'overseas': 8, 'consequently': 12, 'idly': 6, 'unexpectedly': 10, 'reproducibly': 1, 'definitely': 17, 'wordlessly': 1, 'excellently': 4, 'enthusiastically': 3, 'systematically': 8, 'numerically': 2, 'Nevertheless': 35, 'culturally': 2, 'geographically': 4, 'despairingly': 3, 'limply': 1, 'N-no': 1, 'justifiably': 5, 'afloat': 5, 'Jist': 2, 'lots': 1, 'steady': 3, 'therein': 8, 'efficaciously': 2, 'unavoidably': 3, 'therefrom': 3, 'Cautiously': 2, 'photographically': 1, 'mighty': 10, 'Silently': 1, 'Pretty': 3, 'scornfully': 2, 'afterwards': 6, 'concurrently': 1, 'endlessly': 6, 'haggardly': 1, 'Apprehensively': 1, 'dogmatically': 2, 'exquisitely': 2, 'apprehensively': 2, 'concededly': 1, 'gracefully': 8, 'second': 4, 'elaborately': 6, 'hereabouts': 2, 'Likewise': 5, 'dimensionally': 1, 'exclusively': 19, 'paradoxically': 7, 'twice': 52, 'purposively': 1, 'Soon': 17, 'A.M.': 11, 'greenly': 1, 'thoroughly': 32, 'technically': 5, 'Together': 7, 'noisily': 3, 'Someday': 4, 'harder': 14, 'savagely': 3, 'personally': 24, 'likewise': 12, 'vigorously': 8, 'suspiciously': 2, 'open': 6, 'Inside': 7, 'astonishingly': 4, 'downhill': 3, 'Microscopically': 3, 'ornately': 1, 'commonly': 20, 'erroneously': 1, 'hither': 1, 'yon': 1, 'Convulsively': 1, 'Aside': 6, 'dismally': 2, 'Inland': 1, 'under': 9, 'Heavily': 1, 'differently': 16, 'Next': 10, 'Fortunately': 14, 'ingeniously': 1, 'round': 12, 'slow': 2, 'loud': 4, 'strong': 3, 'recurrently': 1, 'Afterwards': 4, 'cautiously': 5, 'ashore': 6, 'unconsciously': 7, 'obliquely': 1, 'stupidly': 2, 'selectively': 2, 'busily': 8, 'humbly': 3, 'instinctively': 4, 'wilfully': 2, 'honorably': 2, 'neither': 6, 'alreadeh': 1, 'perversely': 3, 'Alone': 2, 'ill': 2, 'higher': 13, 'eye-to-eye': 1, 'Otherwise': 13, 'monthly': 3, 'collectively': 4, 'wherein': 3, 'drastically': 7, 'Slowly': 6, 'invariably': 28, 'palely': 1, 'accusingly': 2, 'intimately': 5, 'dialectically': 1, 'vividly': 7, 'grossly': 3, 'midway': 4, 'profusely': 3, 'ultimately': 13, 'predominantly': 6, 'supra': 1, 'Partly': 3, 'unusually': 6, 'distractedly': 1, 'Regardless': 5, 'unfairly': 2, 'fondly': 2, 'satisfactorily': 9, 'Reputedly': 1, 'underwater': 3, 'fine': 3, 'nonetheless': 5, 'perpendicularly': 1, 'Formally': 1, 'Entirely': 1, 'unhesitatingly': 2, 'alongside': 3, 'surreptitiously': 3, 'shyly': 2, 'technologically': 1, 'purposefully': 1, 'Clearly': 7, 'skillfully': 4, 'Historically': 4, 'sweetly': 3, 'shortly': 18, 'homogeneously': 2, 'drunkenly': 4, 'asleep': 17, 'wherewith': 1, 'except': 6, 'zealously': 2, 'overtly': 3, 'Precisely': 2, 'wittingly': 1, 'funny': 1, 'Immediately': 5, 'loosely': 8, 'locally': 10, 'insufficiently': 3, 'perforce': 1, 'alternatively': 2, 'vastly': 7, 'Behind': 2, 'sobbingly': 1, 'cheaply': 2, 'truthfully': 4, 'Presently': 8, 'a-la-Aristotle': 1, 'intensely': 8, 'Obligingly': 1, 'substantially': 24, 'smartly': 2, 'spectacularly': 2, 'typically': 11, 'distinctly': 9, 'free': 7, 'mistakenly': 3, 'irregularly': 4, 'beforehand': 2, 'subsequently': 8, 'stealthily': 1, 'upstream': 3, 'subsequent': 1, 'patiently': 7, 'Accordingly': 12, 'wrong': 3, 'casually': 10, 'appreciably': 6, 'specially': 6, 'imperiously': 2, 'Farther': 2, 'downright': 2, 'Systematically': 1, 'conspicuously': 7, 'racially': 1, 'Softly': 1, 'smoothly': 9, 'sensitively': 1, 'periodically': 5, 'hypothalamically': 1, 'formidably': 1, 'between': 1, 'Originally': 2, 'rigidly': 8, 'Some': 5, 'semantically': 2, 'yearly': 4, 'nonspecifically': 2, 'opposite': 2, 'Ideally': 4, 'Oddly': 3, 'rightly': 4, 'Strangely': 1, 'whereby': 17, 'legitimately': 2, 'hull-first': 1, 'individually': 14, 'psychologically': 2, 'erotically': 1, 'amazingly': 3, 'alertly': 1, 'sleepily': 1, 'friendlily': 1, 'absolutely': 21, 'adrift': 1, 'clairaudiently': 1, 'courteously': 3, 'linearly': 3, 'emphatically': 2, 'henceforth': 3, 'remarkably': 17, 'irreparably': 1, 'inversely': 4, 'unquestionably': 6, 'richly': 5, 'legally': 4, 'severely': 9, 'Rarely': 2, 'ideally': 4, 'intermittently': 2, 'scholastically': 1, 'Outside': 11, 'afterward': 13, 'aptly': 4, 'ironically': 3, 'thoughtlessly': 1, 'willfully': 1, 'upside': 7, 'apiece': 2, 'good': 8, 'Further': 13, 'insofar': 4, 'Gradually': 6, 'Beyond': 2, 'unfunnily': 1, 'implicitly': 3, 'eminently': 3, 'roundly': 2, 'linguistically': 1, 'Altogether': 4, 'idiotically': 1, 'functionally': 2, 'Anyhow': 3, 'Personally': 4, 'residentially': 1, 'previous': 2, 'Quickly': 2, 'northward': 4, 'reprovingly': 1, 'inwardly': 2, 'kindly': 3, 'sincerely': 7, 'yeah': 4, 'so-far': 1, 'extraordinarily': 3, 'incompletely': 2, 'crosswise': 1, 'decidedly': 3, 'stolidly': 2, 'callously': 1, 'Twice': 8, 'fiercely': 3, 'downward': 4, 'cracking': 1, 'improperly': 2, 'potentially': 6, 'unequivocally': 5, \"'way\": 1, 'conversely': 2, 'Professionally': 1, 'poignantly': 1, 'unambiguously': 2, 'moderately': 6, 'lower': 4, 'Interestingly': 1, 'flat': 4, 'vocally': 1, 'uniquely': 7, 'Relatively': 1, 'grandly': 1, 'courageously': 3, 'Enthusiastically': 1, 'Aloud': 1, 'unimpeachably': 1, 'speculatively': 1, 'crudely': 2, 'eclectically': 1, 'poor-mouth': 1, 'independently': 10, 'bluntly': 5, 'thar': 2, 'flatly': 6, 'Psychologically': 1, 'promptly': 18, 'inland': 2, 'mildly': 6, 'offstage': 1, 'Yea': 2, 'madly': 3, 'magically': 3, 'expressly': 2, 'auspiciously': 1, 'reassuringly': 1, 'ca.': 2, 'devoutly': 1, 'face-to-wall': 1, 'Always': 8, 'mathematically': 3, 'experientially': 1, 'short': 11, 'prodigally': 1, 'dutifully': 2, 'willy-nilly': 4, 'sexually': 4, 'studiously': 1, 'brightly': 4, 'gravely': 6, 'dryly': 1, 'P.M.': 6, 'lopsidedly': 1, 'mercilessly': 3, 'pleasantly': 9, 'intensively': 1, 'whereof': 6, 'hereunto': 5, 'Tardily': 1, 'critically': 4, 'Presumably': 5, 'awake': 7, 'edgewise': 1, 'organically': 3, 'docilely': 1, 'enviously': 1, 'efficiently': 8, 'past': 6, 'shoulder-to-shoulder': 1, 'uncertainly': 2, 'bewilderedly': 1, 'unmistakably': 3, 'Evidently': 2, 'asymptotically': 1, 'upstate': 1, 'Earlier': 3, 'regrettably': 1, 'markedly': 3, 'expectedly': 1, 'objectively': 2, 'admirably': 4, 'administratively': 1, 'Down': 2, 'wheare': 1, 'howe': 2, 'lewdly': 1, 'unappeasably': 1, 'unhappily': 7, 'supinely': 1, 'lavishly': 4, 'Opposite': 1, 'loudest': 1, 'Practically': 4, 'etcetera': 7, 'strategically': 2, 'anxiously': 7, 'centrally': 5, 'informally': 2, 'militantly': 1, 'daytime': 1, 'nighttime': 1, 'characteristically': 4, 'brusquely': 1, 'scientifically': 4, 'Halfway': 2, 'someday': 7, 'eventfully': 1, 'Directly': 3, 'underground': 4, 'cunningly': 3, 'meticulously': 6, 'Highly': 1, 'relentlessly': 3, 'beneath': 2, 'unhurriedly': 2, 'resourcefully': 1, 'Probably': 18, 'gratuitously': 2, 'Unfortunately': 14, 'full': 8, 'trustfully': 1, 'cogently': 1, 'palpably': 1, 'soothingly': 1, 'eastward': 3, 'widespread': 1, 'sorely': 3, 'Undoubtedly': 6, 'chronically': 1, 'Visually': 1, 'sternly': 3, 'Normally': 2, 'broadly': 5, 'highest': 4, 'duly': 9, 'strikingly': 7, 'vociferously': 1, 'spontaneously': 7, 'prophetically': 2, 'anymore': 5, 'proudly': 8, 'knee-deep': 1, 'universally': 6, 'viz.': 1, 'militarily': 2, 'structurally': 2, 'breathlessly': 1, 'meekly': 1, 'calmly': 6, 'Resignedly': 1, 'piecemeal': 1, 'contradictorily': 2, 'delightfully': 4, 'denominationally': 1, 'triumphantly': 8, 'grammatically': 1, 'Right': 5, 'appraisingly': 1, 'routinely': 1, 'shrilly': 3, 'Shortly': 7, 'inboard': 2, 'squarely': 6, 'aggressively': 2, 'thermally': 1, 'Miraculously': 3, 'louder': 1, 'stoutly': 1, 'violently': 9, 'precariously': 2, 'imaginatively': 1, 'Thereafter': 3, 'dispassionately': 1, 'incredulously': 1, 'faintly': 5, 'lively': 3, 'anew': 5, \"'stead\": 1, 'prettily': 2, 'artistically': 4, 'fervently': 2, 'coarsely': 1, 'throughout': 5, 'convincingly': 1, 'easier': 6, 'moodily': 1, 'mountainously': 1, 'harshly': 5, 'Nonetheless': 3, 'fruitfully': 1, 'Instinctively': 2, 'merrily': 2, 'hoarsely': 2, 'someplace': 5, 'whereon': 1, 'Critically': 1, 'furtively': 1, 'staggeringly': 1, 'Thirdly': 1, 'embarrassingly': 1, 'abruptly': 16, 'gratis': 1, 'Everywhere': 3, 'slower': 2, 'Tenderly': 1, 'tediously': 2, 'weakly': 3, 'perilously': 2, 'restlessly': 2, 'expertly': 1, 'anachronistically': 1, 'tenderly': 2, 'powerfully': 2, 'allegedly': 2, 'Recklessly': 1, 'sidewise': 6, 'Naw': 1, 'bodily': 3, 'furthermore': 2, 'sedately': 2, 'validly': 1, 'uninterruptedly': 1, 'point-blank': 1, 'startlingly': 4, 'ambitiously': 1, 'absentmindedly': 1, 'Actively': 1, 'loose': 7, 'tougher': 1, 'Ahead': 3, 'peacefully': 3, 'barefoot': 3, 'persuasively': 2, 'whatever': 1, 'skeptically': 1, 'naively': 1, 'Exactly': 2, 'twofold': 1, 'illegally': 1, 'fearlessly': 2, 'smilingly': 1, 'onleh': 2, 'gingerly': 1, 'South': 1, 'traditionally': 8, 'cheaper': 1, 'So-so': 1, 'mightily': 1, 'philosophically': 1, 'expectantly': 2, 'amorphously': 1, 'crisply': 1, 'dully': 3, 'leisurely': 3, 'diagonally': 3, 'curtly': 2, 'sweepingly': 1, 'vocationally': 1, 'sparsely': 2, 'thickly': 4, 'reputedly': 3, 'unashamedly': 1, 'Ironically': 2, 'whatsoever': 3, 'horizontally': 1, 'vertically': 2, 'comfortably': 9, 'profitably': 4, 'explicitly': 5, 'soulfully': 1, 'hereinafter': 5, 'Throughout': 1, 'square': 1, 'cleanly': 2, 'Musically': 1, 'theoretically': 3, 'graciously': 3, 'abstractly': 1, 'clean': 1, 'mercifully': 2, 'Specifically': 1, 'steadfastly': 1, 'remotely': 2, 'disapprovingly': 1, 'plenty': 5, 'needlessly': 1, 'Early': 9, 'to': 1, 'sort': 2, 'plain-out': 1, 'rightfully': 1, 'tiredly': 2, 'inadvertently': 2, 'historically': 6, 'instrumentally': 3, 'wher': 1, 'abroade': 1, 'nott': 2, 'grevouselye': 1, 'awaye': 1, 'agayne': 1, 'tonally': 1, 'Briefly': 1, 'listlessly': 1, 'rakishly': 1, 'dead': 2, 'flamboyantly': 1, 'vitally': 7, 'excessively': 3, 'statistically': 2, 'questioningly': 1, 'uselessly': 1, 'Theoretically': 1, 'atop': 2, 'intrinsically': 3, 'operationally': 1, 'Physiologically': 1, 'restively': 1, 'whereever': 1, 'OK': 4, 'half-heartedly': 1, 'foolishly': 2, 'head-on': 2, 'normal': 3, 'wonderfully': 11, 'yea': 1, 'childishly': 2, 'Deliberately': 1, 'infinitesimally': 1, 'secondarily': 1, 'Due': 1, 'Subsequently': 1, 'jist': 4, 'Experimentally': 1, 'Doubtless': 1, 'therewith': 3, 'defiantly': 2, 'rectlinearly': 1, 'coolly': 5, 'tearfully': 2, 'fantastically': 1, 'wearily': 4, 'head-and-shoulders': 1, 'accordingly': 10, 'nightly': 1, 'aforethought': 1, 'rollickingly': 1, 'valiantly': 1, 'uncommonly': 1, 'kinesthetically': 1, 'obligingly': 1, 'Prior': 5, 'noticeably': 2, 'soaking': 3, 'steamily': 1, 'uppermost': 1, 'feebly': 1, 'understandably': 3, 'unreservedly': 1, 'voluntarily': 5, 'distastefully': 2, 'feverishly': 1, 'Nowhere': 5, 'By': 2, 'large': 3, 'severally': 1, 'absent-mindedly': 3, 'prudentially': 1, 'equitably': 2, 'keenly': 2, 'tremulously': 1, 'aloof': 2, 'analogously': 1, 'nimbly': 1, 'prone': 3, 'stubbornly': 3, 'fearfully': 3, 'astronomically': 1, 'lot': 1, 'thereon': 1, 'reportedly': 7, 'ajar': 2, 'insidiously': 2, 'inshore': 1, 'Away': 2, 'singly': 5, 'intelligently': 2, 'inconspicuously': 1, 'Howsabout': 1, 'Nae': 1, 'ultrasonically': 1, 'distinctively': 2, 'halfways': 1, 'snobbishly': 1, 'unpleasantly': 1, 'amicably': 1, 'Functionally': 1, 'piecewise': 1, 'aloft': 2, 'thrice': 1, 'Biblically': 1, 'catastrophically': 2, 'internationally': 3, 'gratefully': 3, 'glaringly': 1, 'alternately': 6, 'Chiefly': 1, 'sarcastically': 1, 'Publicly': 1, 'flush': 1, 'worse': 1, 'authoritatively': 1, 'Half': 2, 'slyly': 2, 'macroscopically': 1, 'Warmly': 1, 'sullenly': 2, 'usual': 4, 'Surprisingly': 1, 'Easy': 2, 'Virtually': 1, 'Possibly': 3, 'contentedly': 1, 'Promptly': 3, 'editorially': 2, 'healthily': 1, 'Frankly': 1, 'cleverly': 3, 'isothermally': 1, 'tenaciously': 1, 'No-o-o': 1, 'compassionately': 1, 'angrily': 4, 'prudently': 1, 'passionately': 3, 'Indirectly': 1, 'airily': 2, 'unconditionally': 2, 'plain': 2, 'Unhappily': 1, 'abreast': 4, 'aft': 3, 'temptingly': 1, 'symmetrically': 1, 'asymmetrically': 1, 'advantageously': 1, 'boastfully': 1, 'sound': 1, 'delicately': 2, 'singlehandedly': 1, 'unquestioningly': 1, 'punctually': 2, 'Technically': 1, 'aurally': 2, 'half-off': 1, 'intellectually': 3, 'indefinitely': 4, 'adversely': 2, 'psychically': 2, 'Comfortably': 1, 'ably': 2, 'compactly': 1, 'tangibly': 1, 'Significantly': 3, 'statewide': 2, 'rigorously': 3, 'afoot': 1, 'herewith': 2, 'O.K.': 1, 'Centrally': 1, 'carelessly': 2, 'doubtingly': 1, 'affectingly': 1, 'foully': 1, 'everlastingly': 1, 'Damn': 1, 'onct': 1, 'wistfully': 2, 'hardest': 1, 'tacitly': 1, 'Seldom': 1, 'soft': 1, 'tunelessly': 1, 'Assuredly': 1, 'refreshingly': 2, 'randomly': 1, 'wickedly': 2, 'Somewhat': 4, 'assuredly': 1, 'cold-bloodedly': 1, 'stepwise': 2, 'senselessly': 1, \"sho'\": 1, 'unbearably': 1, 'daintily': 1, 'depressingly': 2, 'irrevocably': 2, 'mockingly': 1, 'wisely': 4, 'gaspingly': 1, 'stern-to': 1, 'Paradoxically': 3, 'unsteadily': 1, 'oddly': 6, 'disturbingly': 1, 'fourth-hand': 1, 'nationally': 6, 'rider-fashion': 1, 'amusingly': 2, 'inescapably': 1, 'amusedly': 1, 'starkly': 1, 'orally': 1, 'unduly': 3, 'arbitrarily': 4, 'meaningfully': 1, 'heroically': 1, 'downstream': 4, 'globally': 1, 'willingly': 4, 'weirdly': 1, 'determinedly': 2, 'soberly': 2, 'ridiculously': 2, 'passively': 1, 'bleakly': 2, 'Formerly': 1, 'encouragingly': 1, 'variously': 4, 'comprehensively': 2, 'respectfully': 2, 'Long': 2, 'forcibly': 2, 'gleefully': 1, 'outstandingly': 1, 'straightaway': 1, 'industrially': 1, 'agriculturally': 1, 'obscurely': 1, 'ther': 2, 'out': 1, 'stirringly': 1, 'secretly': 4, 'agin': 2, 'tenfold': 1, 'splendidly': 3, 'yonder': 1, 'darkly': 2, 'Properly': 1, 'mortally': 1, 'dourly': 1, 'altruistically': 1, 'graphically': 1, 'single-handedly': 2, 'exhaustively': 1, 'semi-professionally': 1, 'creatively': 2, 'hitherto': 2, 'dandily': 1, 'taut': 1, 'brazenly': 1, 'afar': 2, 'enormously': 9, 'smart': 1, 'shockingly': 2, 'clinically': 1, 'severly': 1, 'Literally': 1, 'timidly': 1, 'Onleh': 1, 'Fine': 1, 'hideously': 2, 'warily': 2, 'importunately': 1, 'incoherently': 1, 'discordantly': 1, 'Quite': 7, 'internally': 3, 'exhaustingly': 1, 'familiarly': 1, 'abjectly': 1, 'musically': 1, 'emotionally': 7, 'rotationally': 1, 'inadequately': 2, 'anesthetically': 1, 'seekingly': 1, 'underway': 2, 'poetically': 1, 'unreassuringly': 1, 'against': 2, 'hesitantly': 1, 'cheerfully': 5, 'speedily': 3, 'Simply': 3, 'presente': 1, 'part-time': 1, 'judiciously': 1, 'unfailingly': 1, 'Merely': 2, 'briskly': 3, 'electrically': 1, 'energetically': 2, 'capably': 1, 'Emotionally': 1, 'unequally': 1, 'underfoot': 3, 'charmingly': 1, 'intentionally': 2, 'off-shore': 1, 'predictably': 1, 'hydraulically': 1, 'humiliatingly': 1, 'additionally': 2, 'false': 1, 'true': 1, 'goddamn': 2, 'Wisely': 1, 'pitilessly': 1, 'forthrightly': 1, \"well's\": 2, 'wryly': 2, 'inconveniently': 1, 'skilfully': 1, 'preferentially': 2, 'world-wide': 2, 'twirlingly': 1, 'exuberantly': 2, 'Conceivably': 1, 'Curiously': 1, 'peripherally': 1, 'pityingly': 1, 'vehemently': 1, 'askew': 1, 'flatteringly': 1, 'Dearly': 1, 'appropriately': 4, 'marketwise': 1, 'confidently': 1, 'admittedly': 2, \"probl'y\": 1, 'artfully': 3, 'Strictly': 1, 'herein': 2, 'disproportionately': 1, 'indisputably': 1, 'Physically': 2, 'price-wise': 1, 'shabbily': 2, 'thenceforth': 1, 'Awkwardly': 2, 'perchance': 1, 'reflexly': 2, 'Yehhh': 2, 'testily': 1, 'incessantly': 2, 'P.S.': 1, 'Mainly': 2, 'backstage': 1, 'thereupon': 2, 'Slightly': 1, 'grotesquely': 1, 'chemically': 4, 'manually': 2, 'blandly': 2, 'Staggeringly': 1, 'cynically': 1, 'candidly': 1, \"more'n\": 1, 'raucously': 1, 'movingly': 1, 'Alternately': 1, 'morosely': 1, 'snugly': 2, 'involuntarily': 1, 'shore': 1, 'deathly': 1, 'believably': 1, 'unnecessarily': 2, 'discreetly': 1, 'doubly': 3, 'atonally': 1, 'woefully': 1, 'Afterward': 1, 'regionally': 1, 'outboard': 1, 'gaily': 4, 'damn': 1, 'Dimly': 1, 'innocently': 2, 'darned': 1, 'Mathematically': 1, 'Ultimately': 3, 'eloquently': 2, 'Allso': 1, 'Infrequently': 1, \"'round\": 2, 'rudely': 2, 'gratifyingly': 1, 'minutely': 1, 'a-wing': 1, 'Analogously': 1, 'hilariously': 1, 'Logically': 1, 'eventshahleh': 1, 'infrequently': 1, 'enduringly': 1, 'unwillingly': 1, 'brutally': 2, 'transversally': 1, 'Swiftly': 1, 'awhile': 3, 'modestly': 2, 'directionally': 1, 'usefully': 1, 'steeply': 1, 'westerly': 1, 'haughtily': 1, 'joyously': 1, 'left-handed': 3, 'right-handed': 1, 'Thenceforth': 1, 'deplorably': 1, 'blissfully': 1, 'trustingly': 1, 'engagingly': 1, 'yearningly': 1, 'helplessly': 2, 'unselfishly': 1, 'joyfully': 1, 'brokenly': 1, 'whitely': 1, 'extempore': 1, 'evenutally': 1, 'vainly': 1, 'balance-wise': 1, 'intricately': 1, 'Badly': 1, 'customarily': 3, 'jurisprudentially': 1, \"'most\": 1, 'amply': 4, 'unwisely': 2, 'overland': 1, 'oftentimes': 2, 'wolfishly': 1, 'governmentally': 1, 'tactually': 1, 'competitively': 1, 'askance': 1, 'tartly': 1, 'south': 1, 'categorically': 1, 'irredeemably': 1, 'absurdly': 1, 'upland': 1, 'admiringly': 1, 'asunder': 1, 'unobtrusively': 1, 'nakedly': 1, 'no-o': 1, 'egregiously': 1, 'worriedly': 1, 'soe': 1, 'habitually': 2, 'thereunder': 1, 'quantitatively': 1, 'qualitatively': 1, 'anciently': 1, 'homeward': 1, 'insolently': 1, 'kinda': 4, 'uncomplainingly': 1, 'cold': 2, 'syntactically': 1, 'measurably': 1, 'wrongly': 1, 'apologetically': 3, 'heatedly': 1, 'Whence': 1, 'alarmingly': 1, 'dynamically': 1, 'attentively': 1, 'equidistantly': 1, 'fore': 1, 'sloppily': 1, 'substantively': 1, 'compulsively': 2, 'Regretfully': 1, 'Anywhere': 2, 'decisively': 3, 'flagrantly': 1, 'unutterably': 1, 'Largely': 1, 'Fairly': 1, 'abnormally': 1, 'Previously': 2, 'afresh': 2, 'Effectively': 1, 'Impatiently': 1, 'Sleepily': 1, 'Lightly': 1, 'diametrically': 2, 'luckily': 1, 'considerately': 2, 'cohesively': 1, 'ethically': 1, 'Kinda': 1, 'outright': 1, 'publically': 1, 'paternally': 1, 'handsomely': 1, 'haltingly': 2, 'laughingly': 1, 'municipally': 1, 'industriously': 1, 'Relentlessly': 1, 'Additionally': 1, 'Whah': 1, 'nawt': 1, 'frightfully': 1, 'unknowingly': 1, 'Privately': 2, 'correspondingly': 1, 'Solemnly': 1, 'undeniably': 1, 'offshore': 1, 'hyperbolically': 1, 'gust': 1, 'Appropriately': 1, 'half-way': 3, 'onwards': 1, 'to-and-fro': 1, 'wild': 2, 'primly': 1, 'laboriously': 1, 'imprecisely': 2, 'Late': 1, 'exasperatingly': 1, 'unpredictably': 2, 'Hastily': 1, 'greedily': 1, 'secondly': 1, 'Thoroughly': 1, 'double': 1, 'Inherently': 1, 'gloomily': 2, 'Quietly': 1, 'inherently': 1, 'downwind': 1, 'unqualifiedly': 1, 'hurriedly': 2, 'explosively': 1, 'near-at-hand': 1, 'comically': 1, 'painstakingly': 1, 'huskily': 1, 'Vastly': 1, 'non-violently': 1, 'unsuitably': 1, 'Wildly': 1, 'theatrically': 1, 'Hereby': 1, 'crucially': 1, 'scrupulously': 1, 'wetly': 1, 'electronically': 1, \"soon's\": 1, 'full-time': 1, 'Affirmatively': 1, 'strangely': 3, 'slant-wise': 1, 'pungently': 1, 'sulkily': 1, 'biologically': 1, 'Contrarily': 1, 'horrifyingly': 1, 'proportionally': 1, 'awkwardly': 2, 'Lastly': 1, 'ferociously': 1, 'Futhermore': 1, 'credibly': 1, 'High': 1, 'harmlessly': 1, 'unintentionally': 1, 'waspishly': 1, 'unreasonably': 1, 'disconcertingly': 1, 'coyly': 1, 'conventionally': 1, 'pinkly': 1, 'volumetrically': 1, 'freehand': 1, 'sluggishly': 1, 'good-humoredly': 1, 'uncritically': 1, 'circumspectly': 1, 'perfunctorily': 1, 'noncommittally': 1, 'sycophantically': 1, 'extra': 2, 'backwards': 2, 'Nowadays': 1, 'spatially': 1, \"'nuff\": 1, 'exultantly': 1, 'frowningly': 1, 'pitifully': 1, 'Unquestionably': 2, 'pleasingly': 1, 'majestically': 1, 'whence': 1, 'druther': 1, 'Seemingly': 1, 'sideways': 1, 'supremely': 2, 'focally': 1, 'impersonally': 1, 'intramuscularly': 1, 'Economically': 1, 'implausibly': 1, 'maliciously': 1, 'actuarially': 1, 'nigh': 1, 'lastly': 1, 'Overnight': 1, 'Easily': 1, 'associatively': 1, 'monolithically': 1, 'Happily': 1, 'half-aloud': 1, 'direct': 1, 'haphazardly': 1, 'pervasively': 1, 'man-to-man': 1, 'intuitively': 1, 'inexpressibly': 1, 'fastest': 1, 'consummately': 1, 'anyways': 1, 'pronto': 1, 'in-state': 1, 'out-of-state': 1, 'instantaneously': 1, 'spectrally': 1, 'Close': 3, 'eerily': 2, 'tragically': 1, 'parenthetically': 1, 'reliably': 1, 'cool': 1, 'professionally': 2, 'sedulously': 1, 'causally': 1, 'jubilantly': 1, 'Unanimously': 1, 'outwardly': 2, 'effortlessly': 1, 'Automatically': 1, 'Feverishly': 1, 'purportedly': 1, 'heavier': 1, 'tersely': 2, 'Around': 1, 'geometrically': 1, 'Astonishingly': 1, 'dominantly': 1, 'recklessly': 1, 'freshly': 1, 'hand-in-glove': 1, 'crossways': 1, 'tantalizingly': 1, 'Bluntly': 1, 'romantically': 1, 'unsmilingly': 1, 'improbably': 1, 'fascinatingly': 1, 'consisently': 1, 'meantime': 1, 'notwithstanding': 1, 'distantly': 1, 'Backward': 1, 'covertly': 1, 'responsively': 1, 'indiscriminantly': 1, 'austerely': 1, 'unilaterally': 1, 'impossibly': 1, 'fragmentarily': 1, 'Desperately': 1, 'tirelessly': 1, 'Aw': 1, \"t'gethuh\": 1, 'contemptuously': 1, 'sinuously': 1, 'expansively': 1, 'sweet': 1, 'approvingly': 1, 'horribly': 1, 'shamefacedly': 1, 'unsuccessfully': 1, 'piously': 1, 'Patiently': 1, 'lengthwise': 2, 'monumentally': 1, 'brand': 1, 'dere': 1, 'frighteningly': 1, 'derisively': 1, 'ruddy': 1, 'strenuously': 1, 'uproariously': 1, 'gladly': 1, 'crazily': 2, 'predominately': 1, 'audibly': 1, 'Thence': 1, 'presentlye': 1, 'ostensibly': 1, 'abundantly': 1, 'infinitely': 1, 'prayerfully': 1, 'verbatim': 1, 'Equally': 2, 'mournfully': 1, 'marginally': 1, 'protectively': 1, 'offensively': 1, 'unceasingly': 1, 'diffusely': 1, 'Reverently': 1, 'conceptually': 1, 'thereabouts': 1, 'Acourse': 1, 'hotly': 1, 'precociously': 1, 'painlessly': 1, 'mysteriously': 1, 'convulsively': 1, 'Nearby': 1, 'brightest': 1, 'imperceptibly': 1, 'Instantly': 1, 'aforesaid': 1, 'Compassionately': 1, 'Anatomically': 1, 'fitfully': 1, 'glumly': 1, 'afield': 1, 'Characteristically': 1, 'Primarily': 1}}\n"
     ]
    }
   ],
   "source": [
    "print({k: emission_counts[k] for k in list(emission_counts)[:1]})"
   ]
  },
  {
   "cell_type": "markdown",
   "metadata": {},
   "source": [
    "### IMPLEMENTATION: Most Frequent Class Tagger\n",
    "\n",
    "Use the `pair_counts()` function and the training dataset to find the most frequent class label for each word in the training data, and populate the `mfc_table` below. The table keys should be words, and the values should be the appropriate tag string.\n",
    "\n",
    "The `MFCTagger` class is provided to mock the interface of Pomegranite HMM models so that they can be used interchangeably."
   ]
  },
  {
   "cell_type": "code",
   "execution_count": 12,
   "metadata": {},
   "outputs": [
    {
     "data": {
      "text/html": [
       "<div class=\"alert alert-block alert-success\">Your MFC tagger has all the correct words!</div>"
      ],
      "text/plain": [
       "<IPython.core.display.HTML object>"
      ]
     },
     "execution_count": 12,
     "metadata": {},
     "output_type": "execute_result"
    }
   ],
   "source": [
    "# Create a lookup table mfc_table where mfc_table[word] contains the tag label most frequently assigned to that word\n",
    "from collections import namedtuple\n",
    "\n",
    "FakeState = namedtuple(\"FakeState\", \"name\")\n",
    "\n",
    "class MFCTagger:\n",
    "    # NOTE: You should not need to modify this class or any of its methods\n",
    "    missing = FakeState(name=\"<MISSING>\")\n",
    "    \n",
    "    def __init__(self, table):\n",
    "        self.table = defaultdict(lambda: MFCTagger.missing)\n",
    "        self.table.update({word: FakeState(name=tag) for word, tag in table.items()})\n",
    "        \n",
    "    def viterbi(self, seq):\n",
    "        \"\"\"This method simplifies predictions by matching the Pomegranate viterbi() interface\"\"\"\n",
    "        return 0., list(enumerate([\"<start>\"] + [self.table[w] for w in seq] + [\"<end>\"]))\n",
    "\n",
    "\n",
    "# TODO: calculate the frequency of each tag being assigned to each word (hint: similar, but not\n",
    "# the same as the emission probabilities) and use it to fill the mfc_table\n",
    "\n",
    "# word_counts = pair_counts(# TODO: YOUR CODE HERE)\n",
    "word_counts = pair_counts(data.training_set.X, data.training_set.Y)\n",
    "\n",
    "# mfc_table = # TODO: YOUR CODE HERE\n",
    "mfc_table = {}\n",
    "for cur_word, cur_val in word_counts.items():\n",
    "    mfc_table[cur_word] = max(cur_val.keys(), key = lambda key: cur_val[key])\n",
    "\n",
    "\n",
    "# DO NOT MODIFY BELOW THIS LINE\n",
    "mfc_model = MFCTagger(mfc_table) # Create a Most Frequent Class tagger instance\n",
    "\n",
    "assert len(mfc_table) == len(data.training_set.vocab), \"\"\n",
    "assert all(k in data.training_set.vocab for k in mfc_table.keys()), \"\"\n",
    "assert sum(int(k not in mfc_table) for k in data.testing_set.vocab) == 5521, \"\"\n",
    "HTML('<div class=\"alert alert-block alert-success\">Your MFC tagger has all the correct words!</div>')"
   ]
  },
  {
   "cell_type": "code",
   "execution_count": 13,
   "metadata": {},
   "outputs": [
    {
     "name": "stdout",
     "output_type": "stream",
     "text": [
      "{'Whenever': {'ADV': 12}, 'artists': {'NOUN': 34}, ',': {'.': 46499, 'X': 1}, 'indeed': {'ADV': 92}, 'turned': {'VERB': 264}, 'to': {'ADP': 8809, 'PRT': 11784, 'ADV': 1, 'NOUN': 1, 'X': 2}, 'actual': {'ADJ': 77}, 'representations': {'NOUN': 7}, 'or': {'CONJ': 3218, 'X': 1}, 'molded': {'VERB': 12}}\n"
     ]
    }
   ],
   "source": [
    "print({k: word_counts[k] for k in list(word_counts)[:10]})"
   ]
  },
  {
   "cell_type": "code",
   "execution_count": 14,
   "metadata": {},
   "outputs": [
    {
     "name": "stdout",
     "output_type": "stream",
     "text": [
      "{'Whenever': 'ADV', 'artists': 'NOUN', ',': '.', 'indeed': 'ADV', 'turned': 'VERB', 'to': 'PRT', 'actual': 'ADJ', 'representations': 'NOUN', 'or': 'CONJ', 'molded': 'VERB'}\n"
     ]
    }
   ],
   "source": [
    "print({k: mfc_table[k] for k in list(mfc_table)[:10]})"
   ]
  },
  {
   "cell_type": "markdown",
   "metadata": {},
   "source": [
    "### Making Predictions with a Model\n",
    "The helper functions provided below interface with Pomegranate network models & the mocked MFCTagger to take advantage of the [missing value](http://pomegranate.readthedocs.io/en/latest/nan.html) functionality in Pomegranate through a simple sequence decoding function. Run these functions, then run the next cell to see some of the predictions made by the MFC tagger."
   ]
  },
  {
   "cell_type": "code",
   "execution_count": 15,
   "metadata": {},
   "outputs": [],
   "source": [
    "def replace_unknown(sequence):\n",
    "    \"\"\"Return a copy of the input sequence where each unknown word is replaced\n",
    "    by the literal string value 'nan'. Pomegranate will ignore these values\n",
    "    during computation.\n",
    "    \"\"\"\n",
    "    return [w if w in data.training_set.vocab else 'nan' for w in sequence]\n",
    "\n",
    "def simplify_decoding(X, model):\n",
    "    \"\"\"X should be a 1-D sequence of observations for the model to predict\"\"\"\n",
    "    _, state_path = model.viterbi(replace_unknown(X))\n",
    "    return [state[1].name for state in state_path[1:-1]]  # do not show the start/end state predictions"
   ]
  },
  {
   "cell_type": "markdown",
   "metadata": {},
   "source": [
    "### Example Decoding Sequences with MFC Tagger"
   ]
  },
  {
   "cell_type": "code",
   "execution_count": 16,
   "metadata": {},
   "outputs": [
    {
     "name": "stdout",
     "output_type": "stream",
     "text": [
      "Sentence Key: b100-28144\n",
      "\n",
      "Predicted labels:\n",
      "-----------------\n",
      "['CONJ', 'NOUN', 'NUM', '.', 'NOUN', 'NUM', '.', 'NOUN', 'NUM', '.', 'CONJ', 'NOUN', 'NUM', '.', '.', 'NOUN', '.', '.']\n",
      "\n",
      "Actual labels:\n",
      "--------------\n",
      "('CONJ', 'NOUN', 'NUM', '.', 'NOUN', 'NUM', '.', 'NOUN', 'NUM', '.', 'CONJ', 'NOUN', 'NUM', '.', '.', 'NOUN', '.', '.')\n",
      "\n",
      "\n",
      "Sentence Key: b100-23146\n",
      "\n",
      "Predicted labels:\n",
      "-----------------\n",
      "['PRON', 'VERB', 'DET', 'NOUN', 'ADP', 'ADJ', 'ADJ', 'NOUN', 'VERB', 'VERB', '.', 'ADP', 'VERB', 'DET', 'NOUN', 'ADP', 'NOUN', 'ADP', 'DET', 'NOUN', '.']\n",
      "\n",
      "Actual labels:\n",
      "--------------\n",
      "('PRON', 'VERB', 'DET', 'NOUN', 'ADP', 'ADJ', 'ADJ', 'NOUN', 'VERB', 'VERB', '.', 'ADP', 'VERB', 'DET', 'NOUN', 'ADP', 'NOUN', 'ADP', 'DET', 'NOUN', '.')\n",
      "\n",
      "\n",
      "Sentence Key: b100-35462\n",
      "\n",
      "Predicted labels:\n",
      "-----------------\n",
      "['DET', 'ADJ', 'NOUN', 'VERB', 'VERB', 'VERB', 'ADP', 'DET', 'ADJ', 'ADJ', 'NOUN', 'ADP', 'DET', 'ADJ', 'NOUN', '.', 'ADP', 'ADJ', 'NOUN', '.', 'CONJ', 'ADP', 'DET', '<MISSING>', 'ADP', 'ADJ', 'ADJ', '.', 'ADJ', '.', 'CONJ', 'ADJ', 'NOUN', 'ADP', 'ADV', 'NOUN', '.']\n",
      "\n",
      "Actual labels:\n",
      "--------------\n",
      "('DET', 'ADJ', 'NOUN', 'VERB', 'VERB', 'VERB', 'ADP', 'DET', 'ADJ', 'ADJ', 'NOUN', 'ADP', 'DET', 'ADJ', 'NOUN', '.', 'ADP', 'ADJ', 'NOUN', '.', 'CONJ', 'ADP', 'DET', 'NOUN', 'ADP', 'ADJ', 'ADJ', '.', 'ADJ', '.', 'CONJ', 'ADJ', 'NOUN', 'ADP', 'ADJ', 'NOUN', '.')\n",
      "\n",
      "\n"
     ]
    }
   ],
   "source": [
    "for key in data.testing_set.keys[:3]:\n",
    "    print(\"Sentence Key: {}\\n\".format(key))\n",
    "    print(\"Predicted labels:\\n-----------------\")\n",
    "    print(simplify_decoding(data.sentences[key].words, mfc_model))\n",
    "    print()\n",
    "    print(\"Actual labels:\\n--------------\")\n",
    "    print(data.sentences[key].tags)\n",
    "    print(\"\\n\")"
   ]
  },
  {
   "cell_type": "markdown",
   "metadata": {},
   "source": [
    "### Evaluating Model Accuracy\n",
    "\n",
    "The function below will evaluate the accuracy of the MFC tagger on the collection of all sentences from a text corpus. "
   ]
  },
  {
   "cell_type": "code",
   "execution_count": 17,
   "metadata": {},
   "outputs": [],
   "source": [
    "def accuracy(X, Y, model):\n",
    "    \"\"\"Calculate the prediction accuracy by using the model to decode each sequence\n",
    "    in the input X and comparing the prediction with the true labels in Y.\n",
    "    \n",
    "    The X should be an array whose first dimension is the number of sentences to test,\n",
    "    and each element of the array should be an iterable of the words in the sequence.\n",
    "    The arrays X and Y should have the exact same shape.\n",
    "    \n",
    "    X = [(\"See\", \"Spot\", \"run\"), (\"Run\", \"Spot\", \"run\", \"fast\"), ...]\n",
    "    Y = [(), (), ...]\n",
    "    \"\"\"\n",
    "    correct = total_predictions = 0\n",
    "    for observations, actual_tags in zip(X, Y):\n",
    "        \n",
    "        # The model.viterbi call in simplify_decoding will return None if the HMM\n",
    "        # raises an error (for example, if a test sentence contains a word that\n",
    "        # is out of vocabulary for the training set). Any exception counts the\n",
    "        # full sentence as an error (which makes this a conservative estimate).\n",
    "        try:\n",
    "            most_likely_tags = simplify_decoding(observations, model)\n",
    "            correct += sum(p == t for p, t in zip(most_likely_tags, actual_tags))\n",
    "        except:\n",
    "            pass\n",
    "        total_predictions += len(observations)\n",
    "    return correct / total_predictions"
   ]
  },
  {
   "cell_type": "markdown",
   "metadata": {},
   "source": [
    "#### Evaluate the accuracy of the MFC tagger\n",
    "Run the next cell to evaluate the accuracy of the tagger on the training and test corpus."
   ]
  },
  {
   "cell_type": "code",
   "execution_count": 18,
   "metadata": {},
   "outputs": [
    {
     "name": "stdout",
     "output_type": "stream",
     "text": [
      "training accuracy mfc_model: 95.72%\n",
      "testing accuracy mfc_model: 93.01%\n"
     ]
    },
    {
     "data": {
      "text/html": [
       "<div class=\"alert alert-block alert-success\">Your MFC tagger accuracy looks correct!</div>"
      ],
      "text/plain": [
       "<IPython.core.display.HTML object>"
      ]
     },
     "execution_count": 18,
     "metadata": {},
     "output_type": "execute_result"
    }
   ],
   "source": [
    "mfc_training_acc = accuracy(data.training_set.X, data.training_set.Y, mfc_model)\n",
    "print(\"training accuracy mfc_model: {:.2f}%\".format(100 * mfc_training_acc))\n",
    "\n",
    "mfc_testing_acc = accuracy(data.testing_set.X, data.testing_set.Y, mfc_model)\n",
    "print(\"testing accuracy mfc_model: {:.2f}%\".format(100 * mfc_testing_acc))\n",
    "\n",
    "assert mfc_training_acc >= 0.955, \"Uh oh. Your MFC accuracy on the training set doesn't look right.\"\n",
    "assert mfc_testing_acc >= 0.925, \"Uh oh. Your MFC accuracy on the testing set doesn't look right.\"\n",
    "HTML('<div class=\"alert alert-block alert-success\">Your MFC tagger accuracy looks correct!</div>')"
   ]
  },
  {
   "cell_type": "markdown",
   "metadata": {},
   "source": [
    "## Step 3: Build an HMM tagger\n",
    "---\n",
    "The HMM tagger has one hidden state for each possible tag, and parameterized by two distributions: the emission probabilties giving the conditional probability of observing a given **word** from each hidden state, and the transition probabilities giving the conditional probability of moving between **tags** during the sequence.\n",
    "\n",
    "We will also estimate the starting probability distribution (the probability of each **tag** being the first tag in a sequence), and the terminal probability distribution (the probability of each **tag** being the last tag in a sequence).\n",
    "\n",
    "The maximum likelihood estimate of these distributions can be calculated from the frequency counts as described in the following sections where you'll implement functions to count the frequencies, and finally build the model. The HMM model will make predictions according to the formula:\n",
    "\n",
    "$$t_i^n = \\underset{t_i^n}{\\mathrm{argmax}} \\prod_{i=1}^n P(w_i|t_i) P(t_i|t_{i-1})$$\n",
    "\n",
    "Refer to Speech & Language Processing [Chapter 10](https://web.stanford.edu/~jurafsky/slp3/10.pdf) for more information."
   ]
  },
  {
   "cell_type": "markdown",
   "metadata": {},
   "source": [
    "### IMPLEMENTATION: Unigram Counts\n",
    "\n",
    "Complete the function below to estimate the co-occurrence frequency of each symbol over all of the input sequences. The unigram probabilities in our HMM model are estimated from the formula below, where N is the total number of samples in the input. (You only need to compute the counts for now.)\n",
    "\n",
    "$$P(tag_1) = \\frac{C(tag_1)}{N}$$"
   ]
  },
  {
   "cell_type": "code",
   "execution_count": 19,
   "metadata": {},
   "outputs": [
    {
     "name": "stdout",
     "output_type": "stream",
     "text": [
      "training set X: \n",
      "(('Whenever', 'artists', ',', 'indeed', ',', 'turned', 'to', 'actual', 'representations', 'or', 'molded', 'three-dimensional', 'figures', ',', 'which', 'were', 'rare', 'down', 'to', '800', 'B.C.', ',', 'they', 'tended', 'to', 'reflect', 'reality', '(', 'see', 'Plate', '6a', ',', '9b', ')', ';', ';'),)\n",
      "training set Y: \n",
      "(('ADV', 'NOUN', '.', 'ADV', '.', 'VERB', 'ADP', 'ADJ', 'NOUN', 'CONJ', 'VERB', 'ADJ', 'NOUN', '.', 'DET', 'VERB', 'ADJ', 'PRT', 'ADP', 'NUM', 'NOUN', '.', 'PRON', 'VERB', 'PRT', 'VERB', 'NOUN', '.', 'VERB', 'NOUN', 'NUM', '.', 'NUM', '.', '.', '.'),)\n"
     ]
    }
   ],
   "source": [
    "print(\"training set X: \\n{}\".format(data.training_set.X[:1]))\n",
    "print(\"training set Y: \\n{}\".format(data.training_set.Y[:1]))"
   ]
  },
  {
   "cell_type": "code",
   "execution_count": 21,
   "metadata": {},
   "outputs": [
    {
     "data": {
      "text/html": [
       "<div class=\"alert alert-block alert-success\">Your tag unigrams look good!</div>"
      ],
      "text/plain": [
       "<IPython.core.display.HTML object>"
      ]
     },
     "execution_count": 21,
     "metadata": {},
     "output_type": "execute_result"
    }
   ],
   "source": [
    "def unigram_counts(sequences):\n",
    "    \"\"\"Return a dictionary keyed to each unique value in the input sequence list that\n",
    "    counts the number of occurrences of the value in the sequences list. The sequences\n",
    "    collection should be a 2-dimensional array.\n",
    "    \n",
    "    For example, if the tag NOUN appears 275558 times over all the input sequences,\n",
    "    then you should return a dictionary such that your_unigram_counts[NOUN] == 275558.\n",
    "    \"\"\"\n",
    "    # TODO: Finish this function!\n",
    "    unigrams = dict()\n",
    "\n",
    "    for i, sentence in enumerate(sequences):\n",
    "        for j, this_tag in enumerate(sentence):\n",
    "            if this_tag in unigrams:\n",
    "                unigrams[this_tag] += 1\n",
    "            else:\n",
    "                unigrams[this_tag] = 1\n",
    "    \n",
    "    return unigrams\n",
    "\n",
    "# TODO: call unigram_counts with a list of tag sequences from the training set\n",
    "# tag_unigrams = unigram_counts(# TODO: YOUR CODE HERE)\n",
    "tag_unigrams = unigram_counts(data.training_set.Y)\n",
    "\n",
    "assert set(tag_unigrams.keys()) == data.training_set.tagset, \\\n",
    "       \"Uh oh. It looks like your tag counts doesn't include all the tags!\"\n",
    "assert min(tag_unigrams, key=tag_unigrams.get) == 'X', \\\n",
    "       \"Hmmm...'X' is expected to be the least common class\"\n",
    "assert max(tag_unigrams, key=tag_unigrams.get) == 'NOUN', \\\n",
    "       \"Hmmm...'NOUN' is expected to be the most common class\"\n",
    "HTML('<div class=\"alert alert-block alert-success\">Your tag unigrams look good!</div>')"
   ]
  },
  {
   "cell_type": "code",
   "execution_count": 22,
   "metadata": {},
   "outputs": [
    {
     "name": "stdout",
     "output_type": "stream",
     "text": [
      "12\n",
      "{'ADV': 44877, 'NOUN': 220632, '.': 117757, 'VERB': 146161, 'ADP': 115808, 'ADJ': 66754, 'CONJ': 30537, 'DET': 109671, 'PRT': 23906, 'NUM': 11878}\n"
     ]
    }
   ],
   "source": [
    "print(len(tag_unigrams))\n",
    "print({k: tag_unigrams[k] for k in list(tag_unigrams)[:10]})"
   ]
  },
  {
   "cell_type": "markdown",
   "metadata": {},
   "source": [
    "### IMPLEMENTATION: Bigram Counts\n",
    "\n",
    "Complete the function below to estimate the co-occurrence frequency of each pair of symbols in each of the input sequences. These counts are used in the HMM model to estimate the bigram probability of two tags from the frequency counts according to the formula: $$P(tag_2|tag_1) = \\frac{C(tag_2|tag_1)}{C(tag_2)}$$\n"
   ]
  },
  {
   "cell_type": "code",
   "execution_count": 23,
   "metadata": {},
   "outputs": [
    {
     "data": {
      "text/html": [
       "<div class=\"alert alert-block alert-success\">Your tag bigrams look good!</div>"
      ],
      "text/plain": [
       "<IPython.core.display.HTML object>"
      ]
     },
     "execution_count": 23,
     "metadata": {},
     "output_type": "execute_result"
    }
   ],
   "source": [
    "def bigram_counts(sequences):\n",
    "    \"\"\"Return a dictionary keyed to each unique PAIR of values in the input sequences\n",
    "    list that counts the number of occurrences of pair in the sequences list. The input\n",
    "    should be a 2-dimensional array.\n",
    "    \n",
    "    For example, if the pair of tags (NOUN, VERB) appear 61582 times, then you should\n",
    "    return a dictionary such that your_bigram_counts[(NOUN, VERB)] == 61582\n",
    "    \"\"\"\n",
    "\n",
    "    # TODO: Finish this function!\n",
    "    bigrams = {}\n",
    "    \n",
    "    for i, sentence in enumerate(sequences):\n",
    "        # Since we are doing bigrams, the last tag will not have any\n",
    "        # tag to create bigram; thus, only get count one less than\n",
    "        # the sentence count.\n",
    "        for y in range(len(sentence) - 1):\n",
    "            if (sentence[y], sentence[y+1]) in bigrams:\n",
    "                bigrams[(sentence[y], sentence[y+1])] += 1\n",
    "            else:\n",
    "                bigrams[(sentence[y], sentence[y+1])] = 1\n",
    "\n",
    "    return bigrams\n",
    "\n",
    "# TODO: call bigram_counts with a list of tag sequences from the training set\n",
    "# tag_bigrams = bigram_counts(# TODO: YOUR CODE HERE)\n",
    "tag_bigrams = bigram_counts(data.training_set.Y)\n",
    "\n",
    "assert len(tag_bigrams) == 144, \\\n",
    "       \"Uh oh. There should be 144 pairs of bigrams (12 tags x 12 tags)\"\n",
    "assert min(tag_bigrams, key=tag_bigrams.get) in [('X', 'NUM'), ('PRON', 'X')], \\\n",
    "       \"Hmmm...The least common bigram should be one of ('X', 'NUM') or ('PRON', 'X').\"\n",
    "assert max(tag_bigrams, key=tag_bigrams.get) in [('DET', 'NOUN')], \\\n",
    "       \"Hmmm...('DET', 'NOUN') is expected to be the most common bigram.\"\n",
    "HTML('<div class=\"alert alert-block alert-success\">Your tag bigrams look good!</div>')"
   ]
  },
  {
   "cell_type": "code",
   "execution_count": 24,
   "metadata": {},
   "outputs": [
    {
     "name": "stdout",
     "output_type": "stream",
     "text": [
      "144\n",
      "{('ADV', 'NOUN'): 1478, ('NOUN', '.'): 62639, ('.', 'ADV'): 5124, ('ADV', '.'): 7577, ('.', 'VERB'): 9041, ('VERB', 'ADP'): 24927, ('ADP', 'ADJ'): 9533, ('ADJ', 'NOUN'): 43664, ('NOUN', 'CONJ'): 13185, ('CONJ', 'VERB'): 6012}\n"
     ]
    }
   ],
   "source": [
    "print(len(tag_bigrams))\n",
    "print({k: tag_bigrams[k] for k in list(tag_bigrams)[:10]})"
   ]
  },
  {
   "cell_type": "markdown",
   "metadata": {},
   "source": [
    "### IMPLEMENTATION: Sequence Starting Counts\n",
    "Complete the code below to estimate the bigram probabilities of a sequence starting with each tag."
   ]
  },
  {
   "cell_type": "code",
   "execution_count": 25,
   "metadata": {},
   "outputs": [
    {
     "data": {
      "text/html": [
       "<div class=\"alert alert-block alert-success\">Your starting tag counts look good!</div>"
      ],
      "text/plain": [
       "<IPython.core.display.HTML object>"
      ]
     },
     "execution_count": 25,
     "metadata": {},
     "output_type": "execute_result"
    }
   ],
   "source": [
    "def starting_counts(sequences):\n",
    "    \"\"\"Return a dictionary keyed to each unique value in the input sequences list\n",
    "    that counts the number of occurrences where that value is at the beginning of\n",
    "    a sequence.\n",
    "    \n",
    "    For example, if 8093 sequences start with NOUN, then you should return a\n",
    "    dictionary such that your_starting_counts[NOUN] == 8093\n",
    "    \"\"\"\n",
    "    # TODO: Finish this function!\n",
    "    starting_tag_counts = dict()\n",
    "    \n",
    "    for i, sentence in enumerate(sequences):\n",
    "        if sentence[0] in starting_tag_counts:\n",
    "            starting_tag_counts[sentence[0]] += 1\n",
    "        else:\n",
    "            starting_tag_counts[sentence[0]] = 1\n",
    "\n",
    "\n",
    "    return starting_tag_counts\n",
    "\n",
    "# TODO: Calculate the count of each tag starting a sequence\n",
    "# tag_starts = starting_counts(# TODO: YOUR CODE HERE)\n",
    "tag_starts = starting_counts(data.training_set.Y)\n",
    "\n",
    "assert len(tag_starts) == 12, \"Uh oh. There should be 12 tags in your dictionary.\"\n",
    "assert min(tag_starts, key=tag_starts.get) == 'X', \"Hmmm...'X' is expected to be the least common starting bigram.\"\n",
    "assert max(tag_starts, key=tag_starts.get) == 'DET', \"Hmmm...'DET' is expected to be the most common starting bigram.\"\n",
    "HTML('<div class=\"alert alert-block alert-success\">Your starting tag counts look good!</div>')"
   ]
  },
  {
   "cell_type": "markdown",
   "metadata": {},
   "source": [
    "### IMPLEMENTATION: Sequence Ending Counts\n",
    "Complete the function below to estimate the bigram probabilities of a sequence ending with each tag."
   ]
  },
  {
   "cell_type": "code",
   "execution_count": 26,
   "metadata": {},
   "outputs": [
    {
     "data": {
      "text/html": [
       "<div class=\"alert alert-block alert-success\">Your ending tag counts look good!</div>"
      ],
      "text/plain": [
       "<IPython.core.display.HTML object>"
      ]
     },
     "execution_count": 26,
     "metadata": {},
     "output_type": "execute_result"
    }
   ],
   "source": [
    "def ending_counts(sequences):\n",
    "    \"\"\"Return a dictionary keyed to each unique value in the input sequences list\n",
    "    that counts the number of occurrences where that value is at the end of\n",
    "    a sequence.\n",
    "    \n",
    "    For example, if 18 sequences end with DET, then you should return a\n",
    "    dictionary such that your_starting_counts[DET] == 18\n",
    "    \"\"\"\n",
    "    # TODO: Finish this function!\n",
    "    ending_tag_counts = dict()\n",
    "    \n",
    "    for i, sentence in enumerate(sequences):\n",
    "        # Since the index starts from zero, we need to subtract 1 from\n",
    "        # the length of values to get to last element.\n",
    "        lastElement = len(sentence) -1\n",
    "        if sentence[lastElement] in ending_tag_counts:\n",
    "            ending_tag_counts[sentence[lastElement]] += 1\n",
    "        else:\n",
    "            ending_tag_counts[sentence[lastElement]] = 1\n",
    "    \n",
    "    return ending_tag_counts\n",
    "\n",
    "# TODO: Calculate the count of each tag ending a sequence\n",
    "# tag_ends = ending_counts(# TODO: YOUR CODE HERE)\n",
    "tag_ends = ending_counts(data.training_set.Y)\n",
    "\n",
    "assert len(tag_ends) == 12, \"Uh oh. There should be 12 tags in your dictionary.\"\n",
    "assert min(tag_ends, key=tag_ends.get) in ['X', 'CONJ'], \"Hmmm...'X' or 'CONJ' should be the least common ending bigram.\"\n",
    "assert max(tag_ends, key=tag_ends.get) == '.', \"Hmmm...'.' is expected to be the most common ending bigram.\"\n",
    "HTML('<div class=\"alert alert-block alert-success\">Your ending tag counts look good!</div>')"
   ]
  },
  {
   "cell_type": "markdown",
   "metadata": {},
   "source": [
    "### IMPLEMENTATION: Basic HMM Tagger\n",
    "Use the tag unigrams and bigrams calculated above to construct a hidden Markov tagger.\n",
    "\n",
    "- Add one state per tag\n",
    "    - The emission distribution at each state should be estimated with the formula: $P(w|t) = \\frac{C(t, w)}{C(t)}$\n",
    "- Add an edge from the starting state `basic_model.start` to each tag\n",
    "    - The transition probability should be estimated with the formula: $P(t|start) = \\frac{C(start, t)}{C(start)}$\n",
    "- Add an edge from each tag to the end state `basic_model.end`\n",
    "    - The transition probability should be estimated with the formula: $P(end|t) = \\frac{C(t, end)}{C(t)}$\n",
    "- Add an edge between _every_ pair of tags\n",
    "    - The transition probability should be estimated with the formula: $P(t_2|t_1) = \\frac{C(t_1, t_2)}{C(t_1)}$"
   ]
  },
  {
   "cell_type": "code",
   "execution_count": 27,
   "metadata": {},
   "outputs": [
    {
     "name": "stdout",
     "output_type": "stream",
     "text": [
      "Number of states:  14\n",
      "Number of edges:  168\n"
     ]
    },
    {
     "data": {
      "text/html": [
       "<div class=\"alert alert-block alert-success\">Your HMM network topology looks good!</div>"
      ],
      "text/plain": [
       "<IPython.core.display.HTML object>"
      ]
     },
     "execution_count": 27,
     "metadata": {},
     "output_type": "execute_result"
    }
   ],
   "source": [
    "basic_model = HiddenMarkovModel(name=\"base-hmm-tagger\")\n",
    "\n",
    "# TODO: create states with emission probability distributions P(word | tag) and add to the model\n",
    "# (Hint: you may need to loop & create/add new states)\n",
    "# Loop through all the tags in emission_counts and extract tag count for unigrams.  Then find\n",
    "# word probabilities for each values for given tag.  Using word probabilities, find tag_distribution\n",
    "# by applying DiscreteDistribution.  Now add State for each tag to HiddenMarkovModel.\n",
    "\n",
    "states = dict()\n",
    "for tag in emission_counts:\n",
    "    tag_count = tag_unigrams[tag]\n",
    "    # print(\"tag: {}, tag_count: {}\".format(tag, tag_count))\n",
    "    word_probabilities = {key: value / tag_count for (key, value) in emission_counts[tag].items()}\n",
    "    # print(\"word_probabilities: {}\".format(word_probabilities))\n",
    "    tag_distribution = DiscreteDistribution(word_probabilities)\n",
    "    # print(\"tag_distribution: \\n{}\".format(tag_distribution))\n",
    "    states[tag] = State(tag_distribution, name=tag)\n",
    "    basic_model.add_state(states[tag])\n",
    "\n",
    "# TODO: add edges between states for the observed transition frequencies P(tag_i | tag_i-1)\n",
    "# (Hint: you may need to loop & add transitions\n",
    "\n",
    "y_train_len = len(data.training_set.Y)\n",
    "for bigram in tag_bigrams.keys():\n",
    "    # print(\"bigram: {}\".format(bigram))\n",
    "\n",
    "    first_word = bigram[0]\n",
    "    second_word = bigram[1]\n",
    "    \n",
    "    prob =  tag_starts[first_word] / y_train_len\n",
    "    basic_model.add_transition(basic_model.start, states[first_word], prob)\n",
    "    \n",
    "    prob = tag_ends[first_word] / y_train_len\n",
    "    basic_model.add_transition(states[first_word], basic_model.end, prob)\n",
    "\n",
    "    prob = tag_bigrams[bigram] / tag_unigrams[first_word] \n",
    "    basic_model.add_transition(states[first_word], states[second_word], prob)\n",
    "    \n",
    "\n",
    "# NOTE: YOU SHOULD NOT NEED TO MODIFY ANYTHING BELOW THIS LINE\n",
    "# finalize the model\n",
    "basic_model.bake()\n",
    "print(\"Number of states: \", basic_model.node_count())\n",
    "print(\"Number of edges: \", basic_model.edge_count())\n",
    "\n",
    "assert all(tag in set(s.name for s in basic_model.states) for tag in data.training_set.tagset), \\\n",
    "       \"Every state in your network should use the name of the associated tag, which must be one of the training set tags.\"\n",
    "assert basic_model.edge_count() == 168, \\\n",
    "       (\"Your network should have an edge from the start node to each state, one edge between every \" +\n",
    "        \"pair of tags (states), and an edge from each state to the end node.\")\n",
    "HTML('<div class=\"alert alert-block alert-success\">Your HMM network topology looks good!</div>')"
   ]
  },
  {
   "cell_type": "code",
   "execution_count": 28,
   "metadata": {
    "scrolled": true
   },
   "outputs": [
    {
     "name": "stdout",
     "output_type": "stream",
     "text": [
      "training accuracy basic hmm model: 97.54%\n",
      "testing accuracy basic hmm model: 95.96%\n"
     ]
    },
    {
     "data": {
      "text/html": [
       "<div class=\"alert alert-block alert-success\">Your HMM tagger accuracy looks correct! Congratulations, you've finished the project.</div>"
      ],
      "text/plain": [
       "<IPython.core.display.HTML object>"
      ]
     },
     "execution_count": 28,
     "metadata": {},
     "output_type": "execute_result"
    }
   ],
   "source": [
    "hmm_training_acc = accuracy(data.training_set.X, data.training_set.Y, basic_model)\n",
    "print(\"training accuracy basic hmm model: {:.2f}%\".format(100 * hmm_training_acc))\n",
    "\n",
    "hmm_testing_acc = accuracy(data.testing_set.X, data.testing_set.Y, basic_model)\n",
    "print(\"testing accuracy basic hmm model: {:.2f}%\".format(100 * hmm_testing_acc))\n",
    "\n",
    "assert hmm_training_acc > 0.97, \"Uh oh. Your HMM accuracy on the training set doesn't look right.\"\n",
    "assert hmm_testing_acc > 0.955, \"Uh oh. Your HMM accuracy on the testing set doesn't look right.\"\n",
    "HTML('<div class=\"alert alert-block alert-success\">Your HMM tagger accuracy looks correct! Congratulations, you\\'ve finished the project.</div>')"
   ]
  },
  {
   "cell_type": "markdown",
   "metadata": {},
   "source": [
    "### Example Decoding Sequences with the HMM Tagger"
   ]
  },
  {
   "cell_type": "code",
   "execution_count": 29,
   "metadata": {},
   "outputs": [
    {
     "name": "stdout",
     "output_type": "stream",
     "text": [
      "Sentence Key: b100-28144\n",
      "\n",
      "Predicted labels:\n",
      "-----------------\n",
      "['CONJ', 'NOUN', 'NUM', '.', 'NOUN', 'NUM', '.', 'NOUN', 'NUM', '.', 'CONJ', 'NOUN', 'NUM', '.', '.', 'NOUN', '.', '.']\n",
      "\n",
      "Actual labels:\n",
      "--------------\n",
      "('CONJ', 'NOUN', 'NUM', '.', 'NOUN', 'NUM', '.', 'NOUN', 'NUM', '.', 'CONJ', 'NOUN', 'NUM', '.', '.', 'NOUN', '.', '.')\n",
      "\n",
      "\n",
      "Sentence Key: b100-23146\n",
      "\n",
      "Predicted labels:\n",
      "-----------------\n",
      "['PRON', 'VERB', 'DET', 'NOUN', 'ADP', 'ADJ', 'ADJ', 'NOUN', 'VERB', 'VERB', '.', 'ADP', 'VERB', 'DET', 'NOUN', 'ADP', 'NOUN', 'ADP', 'DET', 'NOUN', '.']\n",
      "\n",
      "Actual labels:\n",
      "--------------\n",
      "('PRON', 'VERB', 'DET', 'NOUN', 'ADP', 'ADJ', 'ADJ', 'NOUN', 'VERB', 'VERB', '.', 'ADP', 'VERB', 'DET', 'NOUN', 'ADP', 'NOUN', 'ADP', 'DET', 'NOUN', '.')\n",
      "\n",
      "\n",
      "Sentence Key: b100-35462\n",
      "\n",
      "Predicted labels:\n",
      "-----------------\n",
      "['DET', 'ADJ', 'NOUN', 'VERB', 'VERB', 'VERB', 'ADP', 'DET', 'ADJ', 'ADJ', 'NOUN', 'ADP', 'DET', 'ADJ', 'NOUN', '.', 'ADP', 'ADJ', 'NOUN', '.', 'CONJ', 'ADP', 'DET', 'NOUN', 'ADP', 'ADJ', 'ADJ', '.', 'ADJ', '.', 'CONJ', 'ADJ', 'NOUN', 'ADP', 'ADJ', 'NOUN', '.']\n",
      "\n",
      "Actual labels:\n",
      "--------------\n",
      "('DET', 'ADJ', 'NOUN', 'VERB', 'VERB', 'VERB', 'ADP', 'DET', 'ADJ', 'ADJ', 'NOUN', 'ADP', 'DET', 'ADJ', 'NOUN', '.', 'ADP', 'ADJ', 'NOUN', '.', 'CONJ', 'ADP', 'DET', 'NOUN', 'ADP', 'ADJ', 'ADJ', '.', 'ADJ', '.', 'CONJ', 'ADJ', 'NOUN', 'ADP', 'ADJ', 'NOUN', '.')\n",
      "\n",
      "\n"
     ]
    }
   ],
   "source": [
    "for key in data.testing_set.keys[:3]:\n",
    "    print(\"Sentence Key: {}\\n\".format(key))\n",
    "    print(\"Predicted labels:\\n-----------------\")\n",
    "    print(simplify_decoding(data.sentences[key].words, basic_model))\n",
    "    print()\n",
    "    print(\"Actual labels:\\n--------------\")\n",
    "    print(data.sentences[key].tags)\n",
    "    print(\"\\n\")"
   ]
  },
  {
   "cell_type": "markdown",
   "metadata": {},
   "source": [
    "\n",
    "## Finishing the project\n",
    "---\n",
    "\n",
    "<div class=\"alert alert-block alert-info\">\n",
    "**Note:** **SAVE YOUR NOTEBOOK**, then run the next cell to generate an HTML copy. You will zip & submit both this file and the HTML copy for review.\n",
    "</div>"
   ]
  },
  {
   "cell_type": "code",
   "execution_count": 30,
   "metadata": {},
   "outputs": [
    {
     "data": {
      "text/plain": [
       "['[NbConvertApp] Converting notebook HMM Tagger.ipynb to html',\n",
       " '[NbConvertApp] Writing 445875 bytes to HMM Tagger.html',\n",
       " '[NbConvertApp] Converting notebook HMM Tagger-zh.ipynb to html',\n",
       " '[NbConvertApp] Writing 355982 bytes to HMM Tagger-zh.html',\n",
       " '[NbConvertApp] Converting notebook HMM warmup (optional).ipynb to html',\n",
       " '[NbConvertApp] Writing 334660 bytes to HMM warmup (optional).html',\n",
       " '[NbConvertApp] Converting notebook HMM warmup (optional)-zh.ipynb to html',\n",
       " '[NbConvertApp] Writing 321728 bytes to HMM warmup (optional)-zh.html']"
      ]
     },
     "execution_count": 30,
     "metadata": {},
     "output_type": "execute_result"
    }
   ],
   "source": [
    "!!jupyter nbconvert *.ipynb"
   ]
  },
  {
   "cell_type": "markdown",
   "metadata": {},
   "source": [
    "## Step 4: [Optional] Improving model performance\n",
    "---\n",
    "There are additional enhancements that can be incorporated into your tagger that improve performance on larger tagsets where the data sparsity problem is more significant. The data sparsity problem arises because the same amount of data split over more tags means there will be fewer samples in each tag, and there will be more missing data  tags that have zero occurrences in the data. The techniques in this section are optional.\n",
    "\n",
    "- [Laplace Smoothing](https://en.wikipedia.org/wiki/Additive_smoothing) (pseudocounts)\n",
    "    Laplace smoothing is a technique where you add a small, non-zero value to all observed counts to offset for unobserved values.\n",
    "\n",
    "- Backoff Smoothing\n",
    "    Another smoothing technique is to interpolate between n-grams for missing data. This method is more effective than Laplace smoothing at combatting the data sparsity problem. Refer to chapters 4, 9, and 10 of the [Speech & Language Processing](https://web.stanford.edu/~jurafsky/slp3/) book for more information.\n",
    "\n",
    "- Extending to Trigrams\n",
    "    HMM taggers have achieved better than 96% accuracy on this dataset with the full Penn treebank tagset using an architecture described in [this](http://www.coli.uni-saarland.de/~thorsten/publications/Brants-ANLP00.pdf) paper. Altering your HMM to achieve the same performance would require implementing deleted interpolation (described in the paper), incorporating trigram probabilities in your frequency tables, and re-implementing the Viterbi algorithm to consider three consecutive states instead of two.\n",
    "\n",
    "### Obtain the Brown Corpus with a Larger Tagset\n",
    "Run the code below to download a copy of the brown corpus with the full NLTK tagset. You will need to research the available tagset information in the NLTK docs and determine the best way to extract the subset of NLTK tags you want to explore. If you write the following the format specified in Step 1, then you can reload the data using all of the code above for comparison.\n",
    "\n",
    "Refer to [Chapter 5](http://www.nltk.org/book/ch05.html) of the NLTK book for more information on the available tagsets."
   ]
  },
  {
   "cell_type": "code",
   "execution_count": 31,
   "metadata": {},
   "outputs": [
    {
     "name": "stdout",
     "output_type": "stream",
     "text": [
      "[nltk_data] Downloading package brown to /root/nltk_data...\n",
      "[nltk_data]   Unzipping corpora/brown.zip.\n"
     ]
    },
    {
     "data": {
      "text/plain": [
       "[('The', 'AT'),\n",
       " ('Fulton', 'NP-TL'),\n",
       " ('County', 'NN-TL'),\n",
       " ('Grand', 'JJ-TL'),\n",
       " ('Jury', 'NN-TL'),\n",
       " ('said', 'VBD'),\n",
       " ('Friday', 'NR'),\n",
       " ('an', 'AT'),\n",
       " ('investigation', 'NN'),\n",
       " ('of', 'IN'),\n",
       " (\"Atlanta's\", 'NP$'),\n",
       " ('recent', 'JJ'),\n",
       " ('primary', 'NN'),\n",
       " ('election', 'NN'),\n",
       " ('produced', 'VBD'),\n",
       " ('``', '``'),\n",
       " ('no', 'AT'),\n",
       " ('evidence', 'NN'),\n",
       " (\"''\", \"''\"),\n",
       " ('that', 'CS'),\n",
       " ('any', 'DTI'),\n",
       " ('irregularities', 'NNS'),\n",
       " ('took', 'VBD'),\n",
       " ('place', 'NN'),\n",
       " ('.', '.')]"
      ]
     },
     "execution_count": 31,
     "metadata": {},
     "output_type": "execute_result"
    }
   ],
   "source": [
    "import nltk\n",
    "from nltk import pos_tag, word_tokenize\n",
    "from nltk.corpus import brown\n",
    "\n",
    "nltk.download('brown')\n",
    "training_corpus = nltk.corpus.brown\n",
    "training_corpus.tagged_sents()[0]"
   ]
  },
  {
   "cell_type": "code",
   "execution_count": null,
   "metadata": {},
   "outputs": [],
   "source": []
  }
 ],
 "metadata": {
  "kernelspec": {
   "display_name": "Python 3",
   "language": "python",
   "name": "python3"
  },
  "language_info": {
   "codemirror_mode": {
    "name": "ipython",
    "version": 3
   },
   "file_extension": ".py",
   "mimetype": "text/x-python",
   "name": "python",
   "nbconvert_exporter": "python",
   "pygments_lexer": "ipython3",
   "version": "3.6.3"
  }
 },
 "nbformat": 4,
 "nbformat_minor": 2
}
